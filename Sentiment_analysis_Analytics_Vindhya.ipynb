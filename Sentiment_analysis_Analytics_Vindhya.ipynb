{
  "nbformat": 4,
  "nbformat_minor": 0,
  "metadata": {
    "colab": {
      "name": "Analytics Vindhya.ipynb",
      "provenance": []
    },
    "kernelspec": {
      "name": "python3",
      "display_name": "Python 3"
    }
  },
  "cells": [
    {
      "cell_type": "code",
      "metadata": {
        "id": "9xUwlw9N1LaL",
        "colab_type": "code",
        "colab": {
          "base_uri": "https://localhost:8080/",
          "height": 122
        },
        "outputId": "bb993112-3fde-4e45-96a6-d69b4c633e97"
      },
      "source": [
        "from google.colab import drive\n",
        "drive.mount('/content/drive')"
      ],
      "execution_count": 1,
      "outputs": [
        {
          "output_type": "stream",
          "text": [
            "Go to this URL in a browser: https://accounts.google.com/o/oauth2/auth?client_id=947318989803-6bn6qk8qdgf4n4g3pfee6491hc0brc4i.apps.googleusercontent.com&redirect_uri=urn%3aietf%3awg%3aoauth%3a2.0%3aoob&scope=email%20https%3a%2f%2fwww.googleapis.com%2fauth%2fdocs.test%20https%3a%2f%2fwww.googleapis.com%2fauth%2fdrive%20https%3a%2f%2fwww.googleapis.com%2fauth%2fdrive.photos.readonly%20https%3a%2f%2fwww.googleapis.com%2fauth%2fpeopleapi.readonly&response_type=code\n",
            "\n",
            "Enter your authorization code:\n",
            "··········\n",
            "Mounted at /content/drive\n"
          ],
          "name": "stdout"
        }
      ]
    },
    {
      "cell_type": "code",
      "metadata": {
        "id": "Vf_LxL2f11BJ",
        "colab_type": "code",
        "colab": {
          "base_uri": "https://localhost:8080/",
          "height": 34
        },
        "outputId": "1394a329-47ae-46b6-b6c9-93d9a469134a"
      },
      "source": [
        "cd drive"
      ],
      "execution_count": 2,
      "outputs": [
        {
          "output_type": "stream",
          "text": [
            "/content/drive\n"
          ],
          "name": "stdout"
        }
      ]
    },
    {
      "cell_type": "code",
      "metadata": {
        "id": "CRvWJaMD3UU3",
        "colab_type": "code",
        "colab": {
          "base_uri": "https://localhost:8080/",
          "height": 34
        },
        "outputId": "162c4e73-7fb8-4834-960d-b5601e2b0247"
      },
      "source": [
        "cd My Drive"
      ],
      "execution_count": 3,
      "outputs": [
        {
          "output_type": "stream",
          "text": [
            "/content/drive/My Drive\n"
          ],
          "name": "stdout"
        }
      ]
    },
    {
      "cell_type": "code",
      "metadata": {
        "id": "Gu0Vqc023W1R",
        "colab_type": "code",
        "colab": {
          "base_uri": "https://localhost:8080/",
          "height": 34
        },
        "outputId": "571d79bb-83f9-448f-9bfd-c39f1d83b072"
      },
      "source": [
        "cd Analytics Vindhya"
      ],
      "execution_count": 4,
      "outputs": [
        {
          "output_type": "stream",
          "text": [
            "/content/drive/My Drive/Analytics Vindhya\n"
          ],
          "name": "stdout"
        }
      ]
    },
    {
      "cell_type": "code",
      "metadata": {
        "id": "ppFYu3bO3dGD",
        "colab_type": "code",
        "colab": {}
      },
      "source": [
        "import pandas as pd \n",
        "import numpy as np \n",
        "import matplotlib.pyplot as plt\n",
        "import re"
      ],
      "execution_count": 5,
      "outputs": []
    },
    {
      "cell_type": "code",
      "metadata": {
        "id": "6R2zV24U3kyu",
        "colab_type": "code",
        "colab": {}
      },
      "source": [
        "dataset=pd.read_csv('/content/drive/My Drive/Analytics Vindhya/train.csv')"
      ],
      "execution_count": 71,
      "outputs": []
    },
    {
      "cell_type": "code",
      "metadata": {
        "id": "VOAgFHoF5DyL",
        "colab_type": "code",
        "colab": {
          "base_uri": "https://localhost:8080/",
          "height": 419
        },
        "outputId": "ef76036e-56a6-47a9-f1c0-22ddb7152411"
      },
      "source": [
        "dataset"
      ],
      "execution_count": 72,
      "outputs": [
        {
          "output_type": "execute_result",
          "data": {
            "text/html": [
              "<div>\n",
              "<style scoped>\n",
              "    .dataframe tbody tr th:only-of-type {\n",
              "        vertical-align: middle;\n",
              "    }\n",
              "\n",
              "    .dataframe tbody tr th {\n",
              "        vertical-align: top;\n",
              "    }\n",
              "\n",
              "    .dataframe thead th {\n",
              "        text-align: right;\n",
              "    }\n",
              "</style>\n",
              "<table border=\"1\" class=\"dataframe\">\n",
              "  <thead>\n",
              "    <tr style=\"text-align: right;\">\n",
              "      <th></th>\n",
              "      <th>id</th>\n",
              "      <th>label</th>\n",
              "      <th>tweet</th>\n",
              "    </tr>\n",
              "  </thead>\n",
              "  <tbody>\n",
              "    <tr>\n",
              "      <th>0</th>\n",
              "      <td>1</td>\n",
              "      <td>0</td>\n",
              "      <td>#fingerprint #Pregnancy Test https://goo.gl/h1...</td>\n",
              "    </tr>\n",
              "    <tr>\n",
              "      <th>1</th>\n",
              "      <td>2</td>\n",
              "      <td>0</td>\n",
              "      <td>Finally a transparant silicon case ^^ Thanks t...</td>\n",
              "    </tr>\n",
              "    <tr>\n",
              "      <th>2</th>\n",
              "      <td>3</td>\n",
              "      <td>0</td>\n",
              "      <td>We love this! Would you go? #talk #makememorie...</td>\n",
              "    </tr>\n",
              "    <tr>\n",
              "      <th>3</th>\n",
              "      <td>4</td>\n",
              "      <td>0</td>\n",
              "      <td>I'm wired I know I'm George I was made that wa...</td>\n",
              "    </tr>\n",
              "    <tr>\n",
              "      <th>4</th>\n",
              "      <td>5</td>\n",
              "      <td>1</td>\n",
              "      <td>What amazing service! Apple won't even talk to...</td>\n",
              "    </tr>\n",
              "    <tr>\n",
              "      <th>...</th>\n",
              "      <td>...</td>\n",
              "      <td>...</td>\n",
              "      <td>...</td>\n",
              "    </tr>\n",
              "    <tr>\n",
              "      <th>7915</th>\n",
              "      <td>7916</td>\n",
              "      <td>0</td>\n",
              "      <td>Live out loud #lol #liveoutloud #selfie #smile...</td>\n",
              "    </tr>\n",
              "    <tr>\n",
              "      <th>7916</th>\n",
              "      <td>7917</td>\n",
              "      <td>0</td>\n",
              "      <td>We would like to wish you an amazing day! Make...</td>\n",
              "    </tr>\n",
              "    <tr>\n",
              "      <th>7917</th>\n",
              "      <td>7918</td>\n",
              "      <td>0</td>\n",
              "      <td>Helping my lovely 90 year old neighbor with he...</td>\n",
              "    </tr>\n",
              "    <tr>\n",
              "      <th>7918</th>\n",
              "      <td>7919</td>\n",
              "      <td>0</td>\n",
              "      <td>Finally got my #smart #pocket #wifi stay conne...</td>\n",
              "    </tr>\n",
              "    <tr>\n",
              "      <th>7919</th>\n",
              "      <td>7920</td>\n",
              "      <td>0</td>\n",
              "      <td>Apple Barcelona!!! #Apple #Store #BCN #Barcelo...</td>\n",
              "    </tr>\n",
              "  </tbody>\n",
              "</table>\n",
              "<p>7920 rows × 3 columns</p>\n",
              "</div>"
            ],
            "text/plain": [
              "        id  label                                              tweet\n",
              "0        1      0  #fingerprint #Pregnancy Test https://goo.gl/h1...\n",
              "1        2      0  Finally a transparant silicon case ^^ Thanks t...\n",
              "2        3      0  We love this! Would you go? #talk #makememorie...\n",
              "3        4      0  I'm wired I know I'm George I was made that wa...\n",
              "4        5      1  What amazing service! Apple won't even talk to...\n",
              "...    ...    ...                                                ...\n",
              "7915  7916      0  Live out loud #lol #liveoutloud #selfie #smile...\n",
              "7916  7917      0  We would like to wish you an amazing day! Make...\n",
              "7917  7918      0  Helping my lovely 90 year old neighbor with he...\n",
              "7918  7919      0  Finally got my #smart #pocket #wifi stay conne...\n",
              "7919  7920      0  Apple Barcelona!!! #Apple #Store #BCN #Barcelo...\n",
              "\n",
              "[7920 rows x 3 columns]"
            ]
          },
          "metadata": {
            "tags": []
          },
          "execution_count": 72
        }
      ]
    },
    {
      "cell_type": "code",
      "metadata": {
        "id": "dVxXKQ0c-Uwy",
        "colab_type": "code",
        "colab": {
          "base_uri": "https://localhost:8080/",
          "height": 102
        },
        "outputId": "ebb533cd-927f-4b86-d5e8-6546e96d2ced"
      },
      "source": [
        "import nltk \n",
        "nltk.download('stopwords')\n",
        "nltk.download('wordnet')"
      ],
      "execution_count": 73,
      "outputs": [
        {
          "output_type": "stream",
          "text": [
            "[nltk_data] Downloading package stopwords to /root/nltk_data...\n",
            "[nltk_data]   Package stopwords is already up-to-date!\n",
            "[nltk_data] Downloading package wordnet to /root/nltk_data...\n",
            "[nltk_data]   Package wordnet is already up-to-date!\n"
          ],
          "name": "stdout"
        },
        {
          "output_type": "execute_result",
          "data": {
            "text/plain": [
              "True"
            ]
          },
          "metadata": {
            "tags": []
          },
          "execution_count": 73
        }
      ]
    },
    {
      "cell_type": "code",
      "metadata": {
        "id": "CuoTuRnN5PxS",
        "colab_type": "code",
        "colab": {}
      },
      "source": [
        "from nltk.corpus import stopwords\n",
        "stop =stopwords.words(\"english\")"
      ],
      "execution_count": 74,
      "outputs": []
    },
    {
      "cell_type": "code",
      "metadata": {
        "id": "BkwIqiW4-HHy",
        "colab_type": "code",
        "colab": {}
      },
      "source": [
        "dataset['tweet_without_stopwords']=dataset['tweet'].apply(lambda x:' '.join([word for word in x.split() if word not in (stop)]))"
      ],
      "execution_count": 75,
      "outputs": []
    },
    {
      "cell_type": "code",
      "metadata": {
        "id": "XfzpQ8o4_OeH",
        "colab_type": "code",
        "colab": {
          "base_uri": "https://localhost:8080/",
          "height": 204
        },
        "outputId": "d66ff58a-1eaa-4561-eace-7d09170961e9"
      },
      "source": [
        "dataset.head()\n"
      ],
      "execution_count": 76,
      "outputs": [
        {
          "output_type": "execute_result",
          "data": {
            "text/html": [
              "<div>\n",
              "<style scoped>\n",
              "    .dataframe tbody tr th:only-of-type {\n",
              "        vertical-align: middle;\n",
              "    }\n",
              "\n",
              "    .dataframe tbody tr th {\n",
              "        vertical-align: top;\n",
              "    }\n",
              "\n",
              "    .dataframe thead th {\n",
              "        text-align: right;\n",
              "    }\n",
              "</style>\n",
              "<table border=\"1\" class=\"dataframe\">\n",
              "  <thead>\n",
              "    <tr style=\"text-align: right;\">\n",
              "      <th></th>\n",
              "      <th>id</th>\n",
              "      <th>label</th>\n",
              "      <th>tweet</th>\n",
              "      <th>tweet_without_stopwords</th>\n",
              "    </tr>\n",
              "  </thead>\n",
              "  <tbody>\n",
              "    <tr>\n",
              "      <th>0</th>\n",
              "      <td>1</td>\n",
              "      <td>0</td>\n",
              "      <td>#fingerprint #Pregnancy Test https://goo.gl/h1...</td>\n",
              "      <td>#fingerprint #Pregnancy Test https://goo.gl/h1...</td>\n",
              "    </tr>\n",
              "    <tr>\n",
              "      <th>1</th>\n",
              "      <td>2</td>\n",
              "      <td>0</td>\n",
              "      <td>Finally a transparant silicon case ^^ Thanks t...</td>\n",
              "      <td>Finally transparant silicon case ^^ Thanks unc...</td>\n",
              "    </tr>\n",
              "    <tr>\n",
              "      <th>2</th>\n",
              "      <td>3</td>\n",
              "      <td>0</td>\n",
              "      <td>We love this! Would you go? #talk #makememorie...</td>\n",
              "      <td>We love this! Would go? #talk #makememories #u...</td>\n",
              "    </tr>\n",
              "    <tr>\n",
              "      <th>3</th>\n",
              "      <td>4</td>\n",
              "      <td>0</td>\n",
              "      <td>I'm wired I know I'm George I was made that wa...</td>\n",
              "      <td>I'm wired I know I'm George I made way ;) #iph...</td>\n",
              "    </tr>\n",
              "    <tr>\n",
              "      <th>4</th>\n",
              "      <td>5</td>\n",
              "      <td>1</td>\n",
              "      <td>What amazing service! Apple won't even talk to...</td>\n",
              "      <td>What amazing service! Apple even talk question...</td>\n",
              "    </tr>\n",
              "  </tbody>\n",
              "</table>\n",
              "</div>"
            ],
            "text/plain": [
              "   id  ...                            tweet_without_stopwords\n",
              "0   1  ...  #fingerprint #Pregnancy Test https://goo.gl/h1...\n",
              "1   2  ...  Finally transparant silicon case ^^ Thanks unc...\n",
              "2   3  ...  We love this! Would go? #talk #makememories #u...\n",
              "3   4  ...  I'm wired I know I'm George I made way ;) #iph...\n",
              "4   5  ...  What amazing service! Apple even talk question...\n",
              "\n",
              "[5 rows x 4 columns]"
            ]
          },
          "metadata": {
            "tags": []
          },
          "execution_count": 76
        }
      ]
    },
    {
      "cell_type": "code",
      "metadata": {
        "id": "I0AUhowmqtso",
        "colab_type": "code",
        "colab": {}
      },
      "source": [
        "from nltk.stem.porter import PorterStemmer\n",
        "ps=PorterStemmer()"
      ],
      "execution_count": 77,
      "outputs": []
    },
    {
      "cell_type": "code",
      "metadata": {
        "id": "AlLtYdWusE5T",
        "colab_type": "code",
        "colab": {}
      },
      "source": [
        "dataset['preprocessed_tweet']=dataset['tweet_without_stopwords'].apply(lambda x:' '.join([ps.stem(word) for word in x.split()]))"
      ],
      "execution_count": 78,
      "outputs": []
    },
    {
      "cell_type": "code",
      "metadata": {
        "id": "h4nB3LJG_RDX",
        "colab_type": "code",
        "colab": {}
      },
      "source": [
        "from nltk.stem.wordnet import WordNetLemmatizer\n",
        "lm=WordNetLemmatizer()"
      ],
      "execution_count": 79,
      "outputs": []
    },
    {
      "cell_type": "code",
      "metadata": {
        "id": "vOsMn_Udp3dB",
        "colab_type": "code",
        "colab": {}
      },
      "source": [
        "dataset['preprocessed_tweet']=dataset['preprocessed_tweet'].apply(lambda x:' '.join([lm.lemmatize(word) for word in x.split()]))"
      ],
      "execution_count": 80,
      "outputs": []
    },
    {
      "cell_type": "code",
      "metadata": {
        "id": "kiZqkcr_qVe1",
        "colab_type": "code",
        "colab": {
          "base_uri": "https://localhost:8080/",
          "height": 419
        },
        "outputId": "adf9eec1-f9f1-4c8f-cb4f-2adbf028c4f0"
      },
      "source": [
        "dataset"
      ],
      "execution_count": 81,
      "outputs": [
        {
          "output_type": "execute_result",
          "data": {
            "text/html": [
              "<div>\n",
              "<style scoped>\n",
              "    .dataframe tbody tr th:only-of-type {\n",
              "        vertical-align: middle;\n",
              "    }\n",
              "\n",
              "    .dataframe tbody tr th {\n",
              "        vertical-align: top;\n",
              "    }\n",
              "\n",
              "    .dataframe thead th {\n",
              "        text-align: right;\n",
              "    }\n",
              "</style>\n",
              "<table border=\"1\" class=\"dataframe\">\n",
              "  <thead>\n",
              "    <tr style=\"text-align: right;\">\n",
              "      <th></th>\n",
              "      <th>id</th>\n",
              "      <th>label</th>\n",
              "      <th>tweet</th>\n",
              "      <th>tweet_without_stopwords</th>\n",
              "      <th>preprocessed_tweet</th>\n",
              "    </tr>\n",
              "  </thead>\n",
              "  <tbody>\n",
              "    <tr>\n",
              "      <th>0</th>\n",
              "      <td>1</td>\n",
              "      <td>0</td>\n",
              "      <td>#fingerprint #Pregnancy Test https://goo.gl/h1...</td>\n",
              "      <td>#fingerprint #Pregnancy Test https://goo.gl/h1...</td>\n",
              "      <td>#fingerprint #pregnanc test https://goo.gl/h1m...</td>\n",
              "    </tr>\n",
              "    <tr>\n",
              "      <th>1</th>\n",
              "      <td>2</td>\n",
              "      <td>0</td>\n",
              "      <td>Finally a transparant silicon case ^^ Thanks t...</td>\n",
              "      <td>Finally transparant silicon case ^^ Thanks unc...</td>\n",
              "      <td>final transpar silicon case ^^ thank uncl :) #...</td>\n",
              "    </tr>\n",
              "    <tr>\n",
              "      <th>2</th>\n",
              "      <td>3</td>\n",
              "      <td>0</td>\n",
              "      <td>We love this! Would you go? #talk #makememorie...</td>\n",
              "      <td>We love this! Would go? #talk #makememories #u...</td>\n",
              "      <td>We love this! would go? #talk #makememori #unp...</td>\n",
              "    </tr>\n",
              "    <tr>\n",
              "      <th>3</th>\n",
              "      <td>4</td>\n",
              "      <td>0</td>\n",
              "      <td>I'm wired I know I'm George I was made that wa...</td>\n",
              "      <td>I'm wired I know I'm George I made way ;) #iph...</td>\n",
              "      <td>i'm wire I know i'm georg I made way ;) #iphon...</td>\n",
              "    </tr>\n",
              "    <tr>\n",
              "      <th>4</th>\n",
              "      <td>5</td>\n",
              "      <td>1</td>\n",
              "      <td>What amazing service! Apple won't even talk to...</td>\n",
              "      <td>What amazing service! Apple even talk question...</td>\n",
              "      <td>what amaz service! appl even talk question I u...</td>\n",
              "    </tr>\n",
              "    <tr>\n",
              "      <th>...</th>\n",
              "      <td>...</td>\n",
              "      <td>...</td>\n",
              "      <td>...</td>\n",
              "      <td>...</td>\n",
              "      <td>...</td>\n",
              "    </tr>\n",
              "    <tr>\n",
              "      <th>7915</th>\n",
              "      <td>7916</td>\n",
              "      <td>0</td>\n",
              "      <td>Live out loud #lol #liveoutloud #selfie #smile...</td>\n",
              "      <td>Live loud #lol #liveoutloud #selfie #smile #so...</td>\n",
              "      <td>live loud #lol #liveoutloud #selfi #smile #son...</td>\n",
              "    </tr>\n",
              "    <tr>\n",
              "      <th>7916</th>\n",
              "      <td>7917</td>\n",
              "      <td>0</td>\n",
              "      <td>We would like to wish you an amazing day! Make...</td>\n",
              "      <td>We would like wish amazing day! Make every min...</td>\n",
              "      <td>We would like wish amaz day! make everi minut ...</td>\n",
              "    </tr>\n",
              "    <tr>\n",
              "      <th>7917</th>\n",
              "      <td>7918</td>\n",
              "      <td>0</td>\n",
              "      <td>Helping my lovely 90 year old neighbor with he...</td>\n",
              "      <td>Helping lovely 90 year old neighbor iPad morni...</td>\n",
              "      <td>help love 90 year old neighbor ipad morn made ...</td>\n",
              "    </tr>\n",
              "    <tr>\n",
              "      <th>7918</th>\n",
              "      <td>7919</td>\n",
              "      <td>0</td>\n",
              "      <td>Finally got my #smart #pocket #wifi stay conne...</td>\n",
              "      <td>Finally got #smart #pocket #wifi stay connecte...</td>\n",
              "      <td>final got #smart #pocket #wifi stay connect an...</td>\n",
              "    </tr>\n",
              "    <tr>\n",
              "      <th>7919</th>\n",
              "      <td>7920</td>\n",
              "      <td>0</td>\n",
              "      <td>Apple Barcelona!!! #Apple #Store #BCN #Barcelo...</td>\n",
              "      <td>Apple Barcelona!!! #Apple #Store #BCN #Barcelo...</td>\n",
              "      <td>appl barcelona!!! #appl #store #bcn #barcelona...</td>\n",
              "    </tr>\n",
              "  </tbody>\n",
              "</table>\n",
              "<p>7920 rows × 5 columns</p>\n",
              "</div>"
            ],
            "text/plain": [
              "        id  ...                                 preprocessed_tweet\n",
              "0        1  ...  #fingerprint #pregnanc test https://goo.gl/h1m...\n",
              "1        2  ...  final transpar silicon case ^^ thank uncl :) #...\n",
              "2        3  ...  We love this! would go? #talk #makememori #unp...\n",
              "3        4  ...  i'm wire I know i'm georg I made way ;) #iphon...\n",
              "4        5  ...  what amaz service! appl even talk question I u...\n",
              "...    ...  ...                                                ...\n",
              "7915  7916  ...  live loud #lol #liveoutloud #selfi #smile #son...\n",
              "7916  7917  ...  We would like wish amaz day! make everi minut ...\n",
              "7917  7918  ...  help love 90 year old neighbor ipad morn made ...\n",
              "7918  7919  ...  final got #smart #pocket #wifi stay connect an...\n",
              "7919  7920  ...  appl barcelona!!! #appl #store #bcn #barcelona...\n",
              "\n",
              "[7920 rows x 5 columns]"
            ]
          },
          "metadata": {
            "tags": []
          },
          "execution_count": 81
        }
      ]
    },
    {
      "cell_type": "code",
      "metadata": {
        "id": "DtfZoe9rtU66",
        "colab_type": "code",
        "colab": {}
      },
      "source": [
        "def remove_punctuation(x):\n",
        "  return re.sub('[!”#$%&’()*+,-./:;<=>?@[\\]^_`{|}~]','',str(x))"
      ],
      "execution_count": 82,
      "outputs": []
    },
    {
      "cell_type": "code",
      "metadata": {
        "id": "FB2pUzddtg_0",
        "colab_type": "code",
        "colab": {}
      },
      "source": [
        "def remove_links(x):\n",
        "  return re.sub(r'(https|http)?:\\/\\/(\\w|\\.|\\/|\\?|\\=|\\&|\\%)*\\b', '', x, flags=re.MULTILINE)"
      ],
      "execution_count": 83,
      "outputs": []
    },
    {
      "cell_type": "code",
      "metadata": {
        "id": "Lo_mSMzvuNe6",
        "colab_type": "code",
        "colab": {}
      },
      "source": [
        "dataset['preprocessed_tweet']=dataset['preprocessed_tweet'].apply(remove_links)"
      ],
      "execution_count": 84,
      "outputs": []
    },
    {
      "cell_type": "code",
      "metadata": {
        "id": "QW1wNPUXs_M3",
        "colab_type": "code",
        "colab": {
          "base_uri": "https://localhost:8080/",
          "height": 419
        },
        "outputId": "6c2f0e06-b878-45ee-c0ad-dcf6bf0d72a5"
      },
      "source": [
        "dataset"
      ],
      "execution_count": 85,
      "outputs": [
        {
          "output_type": "execute_result",
          "data": {
            "text/html": [
              "<div>\n",
              "<style scoped>\n",
              "    .dataframe tbody tr th:only-of-type {\n",
              "        vertical-align: middle;\n",
              "    }\n",
              "\n",
              "    .dataframe tbody tr th {\n",
              "        vertical-align: top;\n",
              "    }\n",
              "\n",
              "    .dataframe thead th {\n",
              "        text-align: right;\n",
              "    }\n",
              "</style>\n",
              "<table border=\"1\" class=\"dataframe\">\n",
              "  <thead>\n",
              "    <tr style=\"text-align: right;\">\n",
              "      <th></th>\n",
              "      <th>id</th>\n",
              "      <th>label</th>\n",
              "      <th>tweet</th>\n",
              "      <th>tweet_without_stopwords</th>\n",
              "      <th>preprocessed_tweet</th>\n",
              "    </tr>\n",
              "  </thead>\n",
              "  <tbody>\n",
              "    <tr>\n",
              "      <th>0</th>\n",
              "      <td>1</td>\n",
              "      <td>0</td>\n",
              "      <td>#fingerprint #Pregnancy Test https://goo.gl/h1...</td>\n",
              "      <td>#fingerprint #Pregnancy Test https://goo.gl/h1...</td>\n",
              "      <td>#fingerprint #pregnanc test  #android #app #be...</td>\n",
              "    </tr>\n",
              "    <tr>\n",
              "      <th>1</th>\n",
              "      <td>2</td>\n",
              "      <td>0</td>\n",
              "      <td>Finally a transparant silicon case ^^ Thanks t...</td>\n",
              "      <td>Finally transparant silicon case ^^ Thanks unc...</td>\n",
              "      <td>final transpar silicon case ^^ thank uncl :) #...</td>\n",
              "    </tr>\n",
              "    <tr>\n",
              "      <th>2</th>\n",
              "      <td>3</td>\n",
              "      <td>0</td>\n",
              "      <td>We love this! Would you go? #talk #makememorie...</td>\n",
              "      <td>We love this! Would go? #talk #makememories #u...</td>\n",
              "      <td>We love this! would go? #talk #makememori #unp...</td>\n",
              "    </tr>\n",
              "    <tr>\n",
              "      <th>3</th>\n",
              "      <td>4</td>\n",
              "      <td>0</td>\n",
              "      <td>I'm wired I know I'm George I was made that wa...</td>\n",
              "      <td>I'm wired I know I'm George I made way ;) #iph...</td>\n",
              "      <td>i'm wire I know i'm georg I made way ;) #iphon...</td>\n",
              "    </tr>\n",
              "    <tr>\n",
              "      <th>4</th>\n",
              "      <td>5</td>\n",
              "      <td>1</td>\n",
              "      <td>What amazing service! Apple won't even talk to...</td>\n",
              "      <td>What amazing service! Apple even talk question...</td>\n",
              "      <td>what amaz service! appl even talk question I u...</td>\n",
              "    </tr>\n",
              "    <tr>\n",
              "      <th>...</th>\n",
              "      <td>...</td>\n",
              "      <td>...</td>\n",
              "      <td>...</td>\n",
              "      <td>...</td>\n",
              "      <td>...</td>\n",
              "    </tr>\n",
              "    <tr>\n",
              "      <th>7915</th>\n",
              "      <td>7916</td>\n",
              "      <td>0</td>\n",
              "      <td>Live out loud #lol #liveoutloud #selfie #smile...</td>\n",
              "      <td>Live loud #lol #liveoutloud #selfie #smile #so...</td>\n",
              "      <td>live loud #lol #liveoutloud #selfi #smile #son...</td>\n",
              "    </tr>\n",
              "    <tr>\n",
              "      <th>7916</th>\n",
              "      <td>7917</td>\n",
              "      <td>0</td>\n",
              "      <td>We would like to wish you an amazing day! Make...</td>\n",
              "      <td>We would like wish amazing day! Make every min...</td>\n",
              "      <td>We would like wish amaz day! make everi minut ...</td>\n",
              "    </tr>\n",
              "    <tr>\n",
              "      <th>7917</th>\n",
              "      <td>7918</td>\n",
              "      <td>0</td>\n",
              "      <td>Helping my lovely 90 year old neighbor with he...</td>\n",
              "      <td>Helping lovely 90 year old neighbor iPad morni...</td>\n",
              "      <td>help love 90 year old neighbor ipad morn made ...</td>\n",
              "    </tr>\n",
              "    <tr>\n",
              "      <th>7918</th>\n",
              "      <td>7919</td>\n",
              "      <td>0</td>\n",
              "      <td>Finally got my #smart #pocket #wifi stay conne...</td>\n",
              "      <td>Finally got #smart #pocket #wifi stay connecte...</td>\n",
              "      <td>final got #smart #pocket #wifi stay connect an...</td>\n",
              "    </tr>\n",
              "    <tr>\n",
              "      <th>7919</th>\n",
              "      <td>7920</td>\n",
              "      <td>0</td>\n",
              "      <td>Apple Barcelona!!! #Apple #Store #BCN #Barcelo...</td>\n",
              "      <td>Apple Barcelona!!! #Apple #Store #BCN #Barcelo...</td>\n",
              "      <td>appl barcelona!!! #appl #store #bcn #barcelona...</td>\n",
              "    </tr>\n",
              "  </tbody>\n",
              "</table>\n",
              "<p>7920 rows × 5 columns</p>\n",
              "</div>"
            ],
            "text/plain": [
              "        id  ...                                 preprocessed_tweet\n",
              "0        1  ...  #fingerprint #pregnanc test  #android #app #be...\n",
              "1        2  ...  final transpar silicon case ^^ thank uncl :) #...\n",
              "2        3  ...  We love this! would go? #talk #makememori #unp...\n",
              "3        4  ...  i'm wire I know i'm georg I made way ;) #iphon...\n",
              "4        5  ...  what amaz service! appl even talk question I u...\n",
              "...    ...  ...                                                ...\n",
              "7915  7916  ...  live loud #lol #liveoutloud #selfi #smile #son...\n",
              "7916  7917  ...  We would like wish amaz day! make everi minut ...\n",
              "7917  7918  ...  help love 90 year old neighbor ipad morn made ...\n",
              "7918  7919  ...  final got #smart #pocket #wifi stay connect an...\n",
              "7919  7920  ...  appl barcelona!!! #appl #store #bcn #barcelona...\n",
              "\n",
              "[7920 rows x 5 columns]"
            ]
          },
          "metadata": {
            "tags": []
          },
          "execution_count": 85
        }
      ]
    },
    {
      "cell_type": "code",
      "metadata": {
        "id": "l6H-jp0hsknt",
        "colab_type": "code",
        "colab": {}
      },
      "source": [
        "#dataset['preprocessed_tweet'] = dataset['preprocessed_tweet'].apply(lambda x: re.sub(r'\\B#\\w*[a-zA-Z]+\\w*','', x))"
      ],
      "execution_count": 86,
      "outputs": []
    },
    {
      "cell_type": "code",
      "metadata": {
        "id": "tnCxbLypqg9E",
        "colab_type": "code",
        "colab": {}
      },
      "source": [
        "dataset['preprocessed_tweet']=dataset['preprocessed_tweet'].apply(remove_punctuation)"
      ],
      "execution_count": 87,
      "outputs": []
    },
    {
      "cell_type": "code",
      "metadata": {
        "id": "K_vGajPSuTt2",
        "colab_type": "code",
        "colab": {
          "base_uri": "https://localhost:8080/",
          "height": 419
        },
        "outputId": "84090254-e604-4ccc-dd84-f1855b11d518"
      },
      "source": [
        "dataset"
      ],
      "execution_count": 88,
      "outputs": [
        {
          "output_type": "execute_result",
          "data": {
            "text/html": [
              "<div>\n",
              "<style scoped>\n",
              "    .dataframe tbody tr th:only-of-type {\n",
              "        vertical-align: middle;\n",
              "    }\n",
              "\n",
              "    .dataframe tbody tr th {\n",
              "        vertical-align: top;\n",
              "    }\n",
              "\n",
              "    .dataframe thead th {\n",
              "        text-align: right;\n",
              "    }\n",
              "</style>\n",
              "<table border=\"1\" class=\"dataframe\">\n",
              "  <thead>\n",
              "    <tr style=\"text-align: right;\">\n",
              "      <th></th>\n",
              "      <th>id</th>\n",
              "      <th>label</th>\n",
              "      <th>tweet</th>\n",
              "      <th>tweet_without_stopwords</th>\n",
              "      <th>preprocessed_tweet</th>\n",
              "    </tr>\n",
              "  </thead>\n",
              "  <tbody>\n",
              "    <tr>\n",
              "      <th>0</th>\n",
              "      <td>1</td>\n",
              "      <td>0</td>\n",
              "      <td>#fingerprint #Pregnancy Test https://goo.gl/h1...</td>\n",
              "      <td>#fingerprint #Pregnancy Test https://goo.gl/h1...</td>\n",
              "      <td>fingerprint pregnanc test  android app beauti ...</td>\n",
              "    </tr>\n",
              "    <tr>\n",
              "      <th>1</th>\n",
              "      <td>2</td>\n",
              "      <td>0</td>\n",
              "      <td>Finally a transparant silicon case ^^ Thanks t...</td>\n",
              "      <td>Finally transparant silicon case ^^ Thanks unc...</td>\n",
              "      <td>final transpar silicon case  thank uncl  yay s...</td>\n",
              "    </tr>\n",
              "    <tr>\n",
              "      <th>2</th>\n",
              "      <td>3</td>\n",
              "      <td>0</td>\n",
              "      <td>We love this! Would you go? #talk #makememorie...</td>\n",
              "      <td>We love this! Would go? #talk #makememories #u...</td>\n",
              "      <td>We love this would go talk makememori unplug r...</td>\n",
              "    </tr>\n",
              "    <tr>\n",
              "      <th>3</th>\n",
              "      <td>4</td>\n",
              "      <td>0</td>\n",
              "      <td>I'm wired I know I'm George I was made that wa...</td>\n",
              "      <td>I'm wired I know I'm George I made way ;) #iph...</td>\n",
              "      <td>i'm wire I know i'm georg I made way  iphon cu...</td>\n",
              "    </tr>\n",
              "    <tr>\n",
              "      <th>4</th>\n",
              "      <td>5</td>\n",
              "      <td>1</td>\n",
              "      <td>What amazing service! Apple won't even talk to...</td>\n",
              "      <td>What amazing service! Apple even talk question...</td>\n",
              "      <td>what amaz service appl even talk question I un...</td>\n",
              "    </tr>\n",
              "    <tr>\n",
              "      <th>...</th>\n",
              "      <td>...</td>\n",
              "      <td>...</td>\n",
              "      <td>...</td>\n",
              "      <td>...</td>\n",
              "      <td>...</td>\n",
              "    </tr>\n",
              "    <tr>\n",
              "      <th>7915</th>\n",
              "      <td>7916</td>\n",
              "      <td>0</td>\n",
              "      <td>Live out loud #lol #liveoutloud #selfie #smile...</td>\n",
              "      <td>Live loud #lol #liveoutloud #selfie #smile #so...</td>\n",
              "      <td>live loud lol liveoutloud selfi smile soni mus...</td>\n",
              "    </tr>\n",
              "    <tr>\n",
              "      <th>7916</th>\n",
              "      <td>7917</td>\n",
              "      <td>0</td>\n",
              "      <td>We would like to wish you an amazing day! Make...</td>\n",
              "      <td>We would like wish amazing day! Make every min...</td>\n",
              "      <td>We would like wish amaz day make everi minut c...</td>\n",
              "    </tr>\n",
              "    <tr>\n",
              "      <th>7917</th>\n",
              "      <td>7918</td>\n",
              "      <td>0</td>\n",
              "      <td>Helping my lovely 90 year old neighbor with he...</td>\n",
              "      <td>Helping lovely 90 year old neighbor iPad morni...</td>\n",
              "      <td>help love 90 year old neighbor ipad morn made ...</td>\n",
              "    </tr>\n",
              "    <tr>\n",
              "      <th>7918</th>\n",
              "      <td>7919</td>\n",
              "      <td>0</td>\n",
              "      <td>Finally got my #smart #pocket #wifi stay conne...</td>\n",
              "      <td>Finally got #smart #pocket #wifi stay connecte...</td>\n",
              "      <td>final got smart pocket wifi stay connect anyti...</td>\n",
              "    </tr>\n",
              "    <tr>\n",
              "      <th>7919</th>\n",
              "      <td>7920</td>\n",
              "      <td>0</td>\n",
              "      <td>Apple Barcelona!!! #Apple #Store #BCN #Barcelo...</td>\n",
              "      <td>Apple Barcelona!!! #Apple #Store #BCN #Barcelo...</td>\n",
              "      <td>appl barcelona appl store bcn barcelona travel...</td>\n",
              "    </tr>\n",
              "  </tbody>\n",
              "</table>\n",
              "<p>7920 rows × 5 columns</p>\n",
              "</div>"
            ],
            "text/plain": [
              "        id  ...                                 preprocessed_tweet\n",
              "0        1  ...  fingerprint pregnanc test  android app beauti ...\n",
              "1        2  ...  final transpar silicon case  thank uncl  yay s...\n",
              "2        3  ...  We love this would go talk makememori unplug r...\n",
              "3        4  ...  i'm wire I know i'm georg I made way  iphon cu...\n",
              "4        5  ...  what amaz service appl even talk question I un...\n",
              "...    ...  ...                                                ...\n",
              "7915  7916  ...  live loud lol liveoutloud selfi smile soni mus...\n",
              "7916  7917  ...  We would like wish amaz day make everi minut c...\n",
              "7917  7918  ...  help love 90 year old neighbor ipad morn made ...\n",
              "7918  7919  ...  final got smart pocket wifi stay connect anyti...\n",
              "7919  7920  ...  appl barcelona appl store bcn barcelona travel...\n",
              "\n",
              "[7920 rows x 5 columns]"
            ]
          },
          "metadata": {
            "tags": []
          },
          "execution_count": 88
        }
      ]
    },
    {
      "cell_type": "code",
      "metadata": {
        "id": "XNpCcyUduU-C",
        "colab_type": "code",
        "colab": {}
      },
      "source": [
        "dataset['preprocessed_tweet']=dataset['preprocessed_tweet'].apply(lambda x:x.lower())"
      ],
      "execution_count": 89,
      "outputs": []
    },
    {
      "cell_type": "code",
      "metadata": {
        "id": "tIY980-CwdMU",
        "colab_type": "code",
        "colab": {
          "base_uri": "https://localhost:8080/",
          "height": 419
        },
        "outputId": "a66f9b34-0862-4b3a-ae33-6a5042969929"
      },
      "source": [
        "dataset"
      ],
      "execution_count": 90,
      "outputs": [
        {
          "output_type": "execute_result",
          "data": {
            "text/html": [
              "<div>\n",
              "<style scoped>\n",
              "    .dataframe tbody tr th:only-of-type {\n",
              "        vertical-align: middle;\n",
              "    }\n",
              "\n",
              "    .dataframe tbody tr th {\n",
              "        vertical-align: top;\n",
              "    }\n",
              "\n",
              "    .dataframe thead th {\n",
              "        text-align: right;\n",
              "    }\n",
              "</style>\n",
              "<table border=\"1\" class=\"dataframe\">\n",
              "  <thead>\n",
              "    <tr style=\"text-align: right;\">\n",
              "      <th></th>\n",
              "      <th>id</th>\n",
              "      <th>label</th>\n",
              "      <th>tweet</th>\n",
              "      <th>tweet_without_stopwords</th>\n",
              "      <th>preprocessed_tweet</th>\n",
              "    </tr>\n",
              "  </thead>\n",
              "  <tbody>\n",
              "    <tr>\n",
              "      <th>0</th>\n",
              "      <td>1</td>\n",
              "      <td>0</td>\n",
              "      <td>#fingerprint #Pregnancy Test https://goo.gl/h1...</td>\n",
              "      <td>#fingerprint #Pregnancy Test https://goo.gl/h1...</td>\n",
              "      <td>fingerprint pregnanc test  android app beauti ...</td>\n",
              "    </tr>\n",
              "    <tr>\n",
              "      <th>1</th>\n",
              "      <td>2</td>\n",
              "      <td>0</td>\n",
              "      <td>Finally a transparant silicon case ^^ Thanks t...</td>\n",
              "      <td>Finally transparant silicon case ^^ Thanks unc...</td>\n",
              "      <td>final transpar silicon case  thank uncl  yay s...</td>\n",
              "    </tr>\n",
              "    <tr>\n",
              "      <th>2</th>\n",
              "      <td>3</td>\n",
              "      <td>0</td>\n",
              "      <td>We love this! Would you go? #talk #makememorie...</td>\n",
              "      <td>We love this! Would go? #talk #makememories #u...</td>\n",
              "      <td>we love this would go talk makememori unplug r...</td>\n",
              "    </tr>\n",
              "    <tr>\n",
              "      <th>3</th>\n",
              "      <td>4</td>\n",
              "      <td>0</td>\n",
              "      <td>I'm wired I know I'm George I was made that wa...</td>\n",
              "      <td>I'm wired I know I'm George I made way ;) #iph...</td>\n",
              "      <td>i'm wire i know i'm georg i made way  iphon cu...</td>\n",
              "    </tr>\n",
              "    <tr>\n",
              "      <th>4</th>\n",
              "      <td>5</td>\n",
              "      <td>1</td>\n",
              "      <td>What amazing service! Apple won't even talk to...</td>\n",
              "      <td>What amazing service! Apple even talk question...</td>\n",
              "      <td>what amaz service appl even talk question i un...</td>\n",
              "    </tr>\n",
              "    <tr>\n",
              "      <th>...</th>\n",
              "      <td>...</td>\n",
              "      <td>...</td>\n",
              "      <td>...</td>\n",
              "      <td>...</td>\n",
              "      <td>...</td>\n",
              "    </tr>\n",
              "    <tr>\n",
              "      <th>7915</th>\n",
              "      <td>7916</td>\n",
              "      <td>0</td>\n",
              "      <td>Live out loud #lol #liveoutloud #selfie #smile...</td>\n",
              "      <td>Live loud #lol #liveoutloud #selfie #smile #so...</td>\n",
              "      <td>live loud lol liveoutloud selfi smile soni mus...</td>\n",
              "    </tr>\n",
              "    <tr>\n",
              "      <th>7916</th>\n",
              "      <td>7917</td>\n",
              "      <td>0</td>\n",
              "      <td>We would like to wish you an amazing day! Make...</td>\n",
              "      <td>We would like wish amazing day! Make every min...</td>\n",
              "      <td>we would like wish amaz day make everi minut c...</td>\n",
              "    </tr>\n",
              "    <tr>\n",
              "      <th>7917</th>\n",
              "      <td>7918</td>\n",
              "      <td>0</td>\n",
              "      <td>Helping my lovely 90 year old neighbor with he...</td>\n",
              "      <td>Helping lovely 90 year old neighbor iPad morni...</td>\n",
              "      <td>help love 90 year old neighbor ipad morn made ...</td>\n",
              "    </tr>\n",
              "    <tr>\n",
              "      <th>7918</th>\n",
              "      <td>7919</td>\n",
              "      <td>0</td>\n",
              "      <td>Finally got my #smart #pocket #wifi stay conne...</td>\n",
              "      <td>Finally got #smart #pocket #wifi stay connecte...</td>\n",
              "      <td>final got smart pocket wifi stay connect anyti...</td>\n",
              "    </tr>\n",
              "    <tr>\n",
              "      <th>7919</th>\n",
              "      <td>7920</td>\n",
              "      <td>0</td>\n",
              "      <td>Apple Barcelona!!! #Apple #Store #BCN #Barcelo...</td>\n",
              "      <td>Apple Barcelona!!! #Apple #Store #BCN #Barcelo...</td>\n",
              "      <td>appl barcelona appl store bcn barcelona travel...</td>\n",
              "    </tr>\n",
              "  </tbody>\n",
              "</table>\n",
              "<p>7920 rows × 5 columns</p>\n",
              "</div>"
            ],
            "text/plain": [
              "        id  ...                                 preprocessed_tweet\n",
              "0        1  ...  fingerprint pregnanc test  android app beauti ...\n",
              "1        2  ...  final transpar silicon case  thank uncl  yay s...\n",
              "2        3  ...  we love this would go talk makememori unplug r...\n",
              "3        4  ...  i'm wire i know i'm georg i made way  iphon cu...\n",
              "4        5  ...  what amaz service appl even talk question i un...\n",
              "...    ...  ...                                                ...\n",
              "7915  7916  ...  live loud lol liveoutloud selfi smile soni mus...\n",
              "7916  7917  ...  we would like wish amaz day make everi minut c...\n",
              "7917  7918  ...  help love 90 year old neighbor ipad morn made ...\n",
              "7918  7919  ...  final got smart pocket wifi stay connect anyti...\n",
              "7919  7920  ...  appl barcelona appl store bcn barcelona travel...\n",
              "\n",
              "[7920 rows x 5 columns]"
            ]
          },
          "metadata": {
            "tags": []
          },
          "execution_count": 90
        }
      ]
    },
    {
      "cell_type": "code",
      "metadata": {
        "id": "XiVE1sPerxOm",
        "colab_type": "code",
        "colab": {}
      },
      "source": [
        "from textblob import TextBlob \n",
        "def get_tweet_sentiment(tweet): \n",
        "        ''' \n",
        "        Utility function to classify sentiment of passed tweet \n",
        "        using textblob's sentiment method \n",
        "        '''\n",
        "        # create TextBlob object of passed tweet text \n",
        "        analysis = TextBlob(tweet)\n",
        "        # set sentiment \n",
        "        if analysis.sentiment.polarity >=0: \n",
        "            return 0\n",
        "        else: \n",
        "            return 1"
      ],
      "execution_count": 99,
      "outputs": []
    },
    {
      "cell_type": "code",
      "metadata": {
        "id": "zdZALoKzutER",
        "colab_type": "code",
        "colab": {}
      },
      "source": [
        "dataset['Predicted_label_text_blob']=dataset['preprocessed_tweet'].apply(get_tweet_sentiment)"
      ],
      "execution_count": 100,
      "outputs": []
    },
    {
      "cell_type": "code",
      "metadata": {
        "id": "LT_X-AakvvKl",
        "colab_type": "code",
        "colab": {}
      },
      "source": [
        "from sklearn.metrics import confusion_matrix"
      ],
      "execution_count": 101,
      "outputs": []
    },
    {
      "cell_type": "code",
      "metadata": {
        "id": "nDWrvobJv0sY",
        "colab_type": "code",
        "colab": {}
      },
      "source": [
        "cm=confusion_matrix(dataset['label'].values,dataset['Predicted_label_text_blob'])"
      ],
      "execution_count": 102,
      "outputs": []
    },
    {
      "cell_type": "code",
      "metadata": {
        "id": "SOQ4OA05wBd_",
        "colab_type": "code",
        "colab": {
          "base_uri": "https://localhost:8080/",
          "height": 51
        },
        "outputId": "221d274c-63ed-4913-fb5c-f88a652c31fb"
      },
      "source": [
        "cm"
      ],
      "execution_count": 103,
      "outputs": [
        {
          "output_type": "execute_result",
          "data": {
            "text/plain": [
              "array([[5375,  519],\n",
              "       [1315,  711]])"
            ]
          },
          "metadata": {
            "tags": []
          },
          "execution_count": 103
        }
      ]
    },
    {
      "cell_type": "code",
      "metadata": {
        "id": "XuhKr-Toweb0",
        "colab_type": "code",
        "colab": {}
      },
      "source": [
        "from sklearn.feature_extraction.text import CountVectorizer\n",
        "cv = CountVectorizer(max_features = 100)  #150"
      ],
      "execution_count": 50,
      "outputs": []
    },
    {
      "cell_type": "code",
      "metadata": {
        "id": "RdXF6nvkxxmZ",
        "colab_type": "code",
        "colab": {}
      },
      "source": [
        "X = cv.fit_transform(dataset['preprocessed_tweet']).toarray()"
      ],
      "execution_count": 51,
      "outputs": []
    },
    {
      "cell_type": "code",
      "metadata": {
        "id": "rlsE7ERex82P",
        "colab_type": "code",
        "colab": {
          "base_uri": "https://localhost:8080/",
          "height": 136
        },
        "outputId": "3ffe1dd2-2401-4b40-b2a7-97a56e458980"
      },
      "source": [
        "X"
      ],
      "execution_count": 52,
      "outputs": [
        {
          "output_type": "execute_result",
          "data": {
            "text/plain": [
              "array([[0, 0, 0, ..., 0, 0, 0],\n",
              "       [0, 0, 0, ..., 0, 0, 0],\n",
              "       [0, 0, 0, ..., 1, 0, 0],\n",
              "       ...,\n",
              "       [0, 0, 0, ..., 0, 1, 0],\n",
              "       [0, 0, 0, ..., 0, 0, 0],\n",
              "       [0, 0, 0, ..., 0, 0, 0]])"
            ]
          },
          "metadata": {
            "tags": []
          },
          "execution_count": 52
        }
      ]
    },
    {
      "cell_type": "code",
      "metadata": {
        "id": "wWuyo28Lx9nO",
        "colab_type": "code",
        "colab": {}
      },
      "source": [
        "y=dataset['label']"
      ],
      "execution_count": 53,
      "outputs": []
    },
    {
      "cell_type": "code",
      "metadata": {
        "id": "zqOf2rzFyM-R",
        "colab_type": "code",
        "colab": {
          "base_uri": "https://localhost:8080/",
          "height": 34
        },
        "outputId": "108f1bc5-96a0-4f13-97ae-5e27bc5398d8"
      },
      "source": [
        "y.shape"
      ],
      "execution_count": 54,
      "outputs": [
        {
          "output_type": "execute_result",
          "data": {
            "text/plain": [
              "(7920,)"
            ]
          },
          "metadata": {
            "tags": []
          },
          "execution_count": 54
        }
      ]
    },
    {
      "cell_type": "code",
      "metadata": {
        "id": "h5aiX432yOJs",
        "colab_type": "code",
        "colab": {}
      },
      "source": [
        "from tensorflow.python.keras import layers\n",
        "from tensorflow.python.keras.optimizers import adam\n",
        "from tensorflow.python.keras.callbacks import EarlyStopping\n",
        "from numpy import array\n",
        "from tensorflow.python.keras.preprocessing.text import one_hot\n",
        "from tensorflow.python.keras.preprocessing.sequence import pad_sequences\n",
        "from tensorflow.python.keras.models import Sequential\n",
        "from tensorflow.python.keras.layers import Dense\n",
        "from tensorflow.python.keras.layers import Flatten\n",
        "from tensorflow.python.keras.layers.embeddings import Embedding\n",
        "from tensorflow.python.keras.layers import Dropout\n",
        "from tensorflow.python.keras.layers import Conv1D,MaxPooling1D\n",
        "from tensorflow.python.keras.layers import LSTM\n"
      ],
      "execution_count": 55,
      "outputs": []
    },
    {
      "cell_type": "code",
      "metadata": {
        "id": "DuocSi-AyXuj",
        "colab_type": "code",
        "colab": {
          "base_uri": "https://localhost:8080/",
          "height": 374
        },
        "outputId": "8626cfac-ca53-487e-c418-1b887167f7e9"
      },
      "source": [
        "embedding_vecor_length = 32\n",
        "model = Sequential()\n",
        "model.add(Embedding(10000, embedding_vecor_length, input_length=100)) #Embedding(vocublary_size, output_from_Embedding_layer>=32, size of text(no.of.words))\n",
        "model.add(Flatten())\n",
        "model.add(Dense(250, activation='relu'))\n",
        "model.add(Dense(125,activation='relu'))\n",
        "model.add(Dropout(0.2))\n",
        "model.add(Dense(1, activation='sigmoid'))\n",
        "model.compile(loss='binary_crossentropy', optimizer='adam', metrics=['accuracy'])\n",
        "print(model.summary())"
      ],
      "execution_count": 56,
      "outputs": [
        {
          "output_type": "stream",
          "text": [
            "Model: \"sequential\"\n",
            "_________________________________________________________________\n",
            "Layer (type)                 Output Shape              Param #   \n",
            "=================================================================\n",
            "embedding (Embedding)        (None, 100, 32)           320000    \n",
            "_________________________________________________________________\n",
            "flatten (Flatten)            (None, 3200)              0         \n",
            "_________________________________________________________________\n",
            "dense (Dense)                (None, 250)               800250    \n",
            "_________________________________________________________________\n",
            "dense_1 (Dense)              (None, 125)               31375     \n",
            "_________________________________________________________________\n",
            "dropout (Dropout)            (None, 125)               0         \n",
            "_________________________________________________________________\n",
            "dense_2 (Dense)              (None, 1)                 126       \n",
            "=================================================================\n",
            "Total params: 1,151,751\n",
            "Trainable params: 1,151,751\n",
            "Non-trainable params: 0\n",
            "_________________________________________________________________\n",
            "None\n"
          ],
          "name": "stdout"
        }
      ]
    },
    {
      "cell_type": "code",
      "metadata": {
        "id": "aZLrgTtmymGl",
        "colab_type": "code",
        "colab": {
          "base_uri": "https://localhost:8080/",
          "height": 1000
        },
        "outputId": "cac7f82c-e0bc-4e8b-d7e5-27f9767a4686"
      },
      "source": [
        "from tensorflow.python.keras.callbacks import EarlyStopping\n",
        "from tensorflow.python.keras.callbacks import ModelCheckpoint\n",
        "from tensorflow.python.keras.models import load_model\n",
        "from matplotlib import pyplot\n",
        "es = EarlyStopping(monitor='accuracy', mode='min', verbose=1,patience=64)\n",
        "mc = ModelCheckpoint(r'Analytics_vindhya_sentiment_anlaysis.h5', monitor='val_accuracy',mode='max', verbose=1, save_best_only=True)\n",
        " # fit model\n",
        "history = model.fit( X, y,validation_split=0.2,epochs=100, verbose=1,callbacks=[es,mc])"
      ],
      "execution_count": 57,
      "outputs": [
        {
          "output_type": "stream",
          "text": [
            "Epoch 1/100\n",
            "197/198 [============================>.] - ETA: 0s - loss: 0.4679 - accuracy: 0.7874\n",
            "Epoch 00001: val_accuracy improved from -inf to 0.82071, saving model to Analytics_vindhya_sentiment_anlaysis.h5\n",
            "198/198 [==============================] - 4s 21ms/step - loss: 0.4675 - accuracy: 0.7879 - val_loss: 0.4187 - val_accuracy: 0.8207\n",
            "Epoch 2/100\n",
            "198/198 [==============================] - ETA: 0s - loss: 0.3738 - accuracy: 0.8401\n",
            "Epoch 00002: val_accuracy improved from 0.82071 to 0.84785, saving model to Analytics_vindhya_sentiment_anlaysis.h5\n",
            "198/198 [==============================] - 3s 17ms/step - loss: 0.3738 - accuracy: 0.8401 - val_loss: 0.3816 - val_accuracy: 0.8479\n",
            "Epoch 3/100\n",
            "197/198 [============================>.] - ETA: 0s - loss: 0.3524 - accuracy: 0.8496\n",
            "Epoch 00003: val_accuracy did not improve from 0.84785\n",
            "198/198 [==============================] - 3s 16ms/step - loss: 0.3519 - accuracy: 0.8497 - val_loss: 0.3738 - val_accuracy: 0.8479\n",
            "Epoch 4/100\n",
            "197/198 [============================>.] - ETA: 0s - loss: 0.3333 - accuracy: 0.8593\n",
            "Epoch 00004: val_accuracy did not improve from 0.84785\n",
            "198/198 [==============================] - 3s 17ms/step - loss: 0.3327 - accuracy: 0.8597 - val_loss: 0.3771 - val_accuracy: 0.8447\n",
            "Epoch 5/100\n",
            "195/198 [============================>.] - ETA: 0s - loss: 0.3106 - accuracy: 0.8750\n",
            "Epoch 00005: val_accuracy did not improve from 0.84785\n",
            "198/198 [==============================] - 3s 16ms/step - loss: 0.3112 - accuracy: 0.8745 - val_loss: 0.4020 - val_accuracy: 0.8460\n",
            "Epoch 6/100\n",
            "196/198 [============================>.] - ETA: 0s - loss: 0.2848 - accuracy: 0.8833\n",
            "Epoch 00006: val_accuracy did not improve from 0.84785\n",
            "198/198 [==============================] - 3s 16ms/step - loss: 0.2843 - accuracy: 0.8838 - val_loss: 0.4420 - val_accuracy: 0.8289\n",
            "Epoch 7/100\n",
            "198/198 [==============================] - ETA: 0s - loss: 0.2505 - accuracy: 0.9015\n",
            "Epoch 00007: val_accuracy did not improve from 0.84785\n",
            "198/198 [==============================] - 3s 16ms/step - loss: 0.2505 - accuracy: 0.9015 - val_loss: 0.4557 - val_accuracy: 0.8396\n",
            "Epoch 8/100\n",
            "195/198 [============================>.] - ETA: 0s - loss: 0.2257 - accuracy: 0.9143\n",
            "Epoch 00008: val_accuracy did not improve from 0.84785\n",
            "198/198 [==============================] - 3s 17ms/step - loss: 0.2251 - accuracy: 0.9143 - val_loss: 0.5714 - val_accuracy: 0.8346\n",
            "Epoch 9/100\n",
            "196/198 [============================>.] - ETA: 0s - loss: 0.2083 - accuracy: 0.9224\n",
            "Epoch 00009: val_accuracy did not improve from 0.84785\n",
            "198/198 [==============================] - 3s 18ms/step - loss: 0.2093 - accuracy: 0.9217 - val_loss: 0.5381 - val_accuracy: 0.8258\n",
            "Epoch 10/100\n",
            "196/198 [============================>.] - ETA: 0s - loss: 0.2033 - accuracy: 0.9247\n",
            "Epoch 00010: val_accuracy did not improve from 0.84785\n",
            "198/198 [==============================] - 3s 17ms/step - loss: 0.2034 - accuracy: 0.9246 - val_loss: 0.6044 - val_accuracy: 0.8384\n",
            "Epoch 11/100\n",
            "197/198 [============================>.] - ETA: 0s - loss: 0.1842 - accuracy: 0.9321\n",
            "Epoch 00011: val_accuracy did not improve from 0.84785\n",
            "198/198 [==============================] - 3s 17ms/step - loss: 0.1839 - accuracy: 0.9321 - val_loss: 0.7219 - val_accuracy: 0.8371\n",
            "Epoch 12/100\n",
            "196/198 [============================>.] - ETA: 0s - loss: 0.1729 - accuracy: 0.9367\n",
            "Epoch 00012: val_accuracy did not improve from 0.84785\n",
            "198/198 [==============================] - 3s 16ms/step - loss: 0.1728 - accuracy: 0.9367 - val_loss: 0.7550 - val_accuracy: 0.8321\n",
            "Epoch 13/100\n",
            "196/198 [============================>.] - ETA: 0s - loss: 0.1735 - accuracy: 0.9361\n",
            "Epoch 00013: val_accuracy did not improve from 0.84785\n",
            "198/198 [==============================] - 3s 16ms/step - loss: 0.1732 - accuracy: 0.9362 - val_loss: 0.9417 - val_accuracy: 0.8308\n",
            "Epoch 14/100\n",
            "198/198 [==============================] - ETA: 0s - loss: 0.1705 - accuracy: 0.9381\n",
            "Epoch 00014: val_accuracy did not improve from 0.84785\n",
            "198/198 [==============================] - 3s 17ms/step - loss: 0.1705 - accuracy: 0.9381 - val_loss: 0.8216 - val_accuracy: 0.8270\n",
            "Epoch 15/100\n",
            "198/198 [==============================] - ETA: 0s - loss: 0.1641 - accuracy: 0.9418\n",
            "Epoch 00015: val_accuracy did not improve from 0.84785\n",
            "198/198 [==============================] - 3s 16ms/step - loss: 0.1641 - accuracy: 0.9418 - val_loss: 0.8924 - val_accuracy: 0.8359\n",
            "Epoch 16/100\n",
            "197/198 [============================>.] - ETA: 0s - loss: 0.1725 - accuracy: 0.9386\n",
            "Epoch 00016: val_accuracy did not improve from 0.84785\n",
            "198/198 [==============================] - 3s 16ms/step - loss: 0.1722 - accuracy: 0.9388 - val_loss: 0.8920 - val_accuracy: 0.8346\n",
            "Epoch 17/100\n",
            "197/198 [============================>.] - ETA: 0s - loss: 0.1575 - accuracy: 0.9453\n",
            "Epoch 00017: val_accuracy did not improve from 0.84785\n",
            "198/198 [==============================] - 3s 17ms/step - loss: 0.1581 - accuracy: 0.9451 - val_loss: 1.0066 - val_accuracy: 0.8378\n",
            "Epoch 18/100\n",
            "197/198 [============================>.] - ETA: 0s - loss: 0.1580 - accuracy: 0.9437\n",
            "Epoch 00018: val_accuracy did not improve from 0.84785\n",
            "198/198 [==============================] - 3s 17ms/step - loss: 0.1582 - accuracy: 0.9435 - val_loss: 0.9577 - val_accuracy: 0.8365\n",
            "Epoch 19/100\n",
            "195/198 [============================>.] - ETA: 0s - loss: 0.1507 - accuracy: 0.9444\n",
            "Epoch 00019: val_accuracy did not improve from 0.84785\n",
            "198/198 [==============================] - 3s 17ms/step - loss: 0.1507 - accuracy: 0.9443 - val_loss: 0.9546 - val_accuracy: 0.8333\n",
            "Epoch 20/100\n",
            "198/198 [==============================] - ETA: 0s - loss: 0.1487 - accuracy: 0.9454\n",
            "Epoch 00020: val_accuracy did not improve from 0.84785\n",
            "198/198 [==============================] - 3s 16ms/step - loss: 0.1487 - accuracy: 0.9454 - val_loss: 0.9427 - val_accuracy: 0.8264\n",
            "Epoch 21/100\n",
            "198/198 [==============================] - ETA: 0s - loss: 0.1481 - accuracy: 0.9459\n",
            "Epoch 00021: val_accuracy did not improve from 0.84785\n",
            "198/198 [==============================] - 3s 16ms/step - loss: 0.1481 - accuracy: 0.9459 - val_loss: 1.1191 - val_accuracy: 0.8283\n",
            "Epoch 22/100\n",
            "198/198 [==============================] - ETA: 0s - loss: 0.1475 - accuracy: 0.9462\n",
            "Epoch 00022: val_accuracy did not improve from 0.84785\n",
            "198/198 [==============================] - 3s 16ms/step - loss: 0.1475 - accuracy: 0.9462 - val_loss: 0.9853 - val_accuracy: 0.8333\n",
            "Epoch 23/100\n",
            "197/198 [============================>.] - ETA: 0s - loss: 0.1495 - accuracy: 0.9442\n",
            "Epoch 00023: val_accuracy did not improve from 0.84785\n",
            "198/198 [==============================] - 3s 17ms/step - loss: 0.1492 - accuracy: 0.9444 - val_loss: 0.9913 - val_accuracy: 0.8302\n",
            "Epoch 24/100\n",
            "195/198 [============================>.] - ETA: 0s - loss: 0.1495 - accuracy: 0.9450\n",
            "Epoch 00024: val_accuracy did not improve from 0.84785\n",
            "198/198 [==============================] - 3s 17ms/step - loss: 0.1511 - accuracy: 0.9444 - val_loss: 0.9785 - val_accuracy: 0.8378\n",
            "Epoch 25/100\n",
            "197/198 [============================>.] - ETA: 0s - loss: 0.1541 - accuracy: 0.9443\n",
            "Epoch 00025: val_accuracy did not improve from 0.84785\n",
            "198/198 [==============================] - 3s 16ms/step - loss: 0.1543 - accuracy: 0.9441 - val_loss: 1.2101 - val_accuracy: 0.8327\n",
            "Epoch 26/100\n",
            "196/198 [============================>.] - ETA: 0s - loss: 0.1696 - accuracy: 0.9405\n",
            "Epoch 00026: val_accuracy did not improve from 0.84785\n",
            "198/198 [==============================] - 3s 16ms/step - loss: 0.1703 - accuracy: 0.9402 - val_loss: 1.0182 - val_accuracy: 0.8333\n",
            "Epoch 27/100\n",
            "196/198 [============================>.] - ETA: 0s - loss: 0.1717 - accuracy: 0.9407\n",
            "Epoch 00027: val_accuracy did not improve from 0.84785\n",
            "198/198 [==============================] - 3s 17ms/step - loss: 0.1712 - accuracy: 0.9410 - val_loss: 1.0472 - val_accuracy: 0.8327\n",
            "Epoch 28/100\n",
            "197/198 [============================>.] - ETA: 0s - loss: 0.1477 - accuracy: 0.9450\n",
            "Epoch 00028: val_accuracy did not improve from 0.84785\n",
            "198/198 [==============================] - 3s 16ms/step - loss: 0.1482 - accuracy: 0.9448 - val_loss: 1.1086 - val_accuracy: 0.8283\n",
            "Epoch 29/100\n",
            "198/198 [==============================] - ETA: 0s - loss: 0.1435 - accuracy: 0.9474\n",
            "Epoch 00029: val_accuracy did not improve from 0.84785\n",
            "198/198 [==============================] - 3s 16ms/step - loss: 0.1435 - accuracy: 0.9474 - val_loss: 0.9994 - val_accuracy: 0.8333\n",
            "Epoch 30/100\n",
            "196/198 [============================>.] - ETA: 0s - loss: 0.1442 - accuracy: 0.9479\n",
            "Epoch 00030: val_accuracy did not improve from 0.84785\n",
            "198/198 [==============================] - 3s 16ms/step - loss: 0.1436 - accuracy: 0.9482 - val_loss: 1.1872 - val_accuracy: 0.8346\n",
            "Epoch 31/100\n",
            "195/198 [============================>.] - ETA: 0s - loss: 0.1425 - accuracy: 0.9473\n",
            "Epoch 00031: val_accuracy did not improve from 0.84785\n",
            "198/198 [==============================] - 3s 16ms/step - loss: 0.1418 - accuracy: 0.9476 - val_loss: 1.2480 - val_accuracy: 0.8327\n",
            "Epoch 32/100\n",
            "198/198 [==============================] - ETA: 0s - loss: 0.1414 - accuracy: 0.9470\n",
            "Epoch 00032: val_accuracy did not improve from 0.84785\n",
            "198/198 [==============================] - 3s 17ms/step - loss: 0.1414 - accuracy: 0.9470 - val_loss: 1.3238 - val_accuracy: 0.8314\n",
            "Epoch 33/100\n",
            "197/198 [============================>.] - ETA: 0s - loss: 0.1393 - accuracy: 0.9472\n",
            "Epoch 00033: val_accuracy did not improve from 0.84785\n",
            "198/198 [==============================] - 3s 17ms/step - loss: 0.1391 - accuracy: 0.9473 - val_loss: 1.3866 - val_accuracy: 0.8333\n",
            "Epoch 34/100\n",
            "196/198 [============================>.] - ETA: 0s - loss: 0.1395 - accuracy: 0.9472\n",
            "Epoch 00034: val_accuracy did not improve from 0.84785\n",
            "198/198 [==============================] - 3s 17ms/step - loss: 0.1395 - accuracy: 0.9474 - val_loss: 1.3449 - val_accuracy: 0.8352\n",
            "Epoch 35/100\n",
            "196/198 [============================>.] - ETA: 0s - loss: 0.1382 - accuracy: 0.9483\n",
            "Epoch 00035: val_accuracy did not improve from 0.84785\n",
            "198/198 [==============================] - 3s 16ms/step - loss: 0.1382 - accuracy: 0.9484 - val_loss: 1.3540 - val_accuracy: 0.8340\n",
            "Epoch 36/100\n",
            "196/198 [============================>.] - ETA: 0s - loss: 0.1410 - accuracy: 0.9477\n",
            "Epoch 00036: val_accuracy did not improve from 0.84785\n",
            "198/198 [==============================] - 3s 17ms/step - loss: 0.1407 - accuracy: 0.9478 - val_loss: 1.3137 - val_accuracy: 0.8340\n",
            "Epoch 37/100\n",
            "197/198 [============================>.] - ETA: 0s - loss: 0.1421 - accuracy: 0.9470\n",
            "Epoch 00037: val_accuracy did not improve from 0.84785\n",
            "198/198 [==============================] - 3s 17ms/step - loss: 0.1417 - accuracy: 0.9471 - val_loss: 1.7155 - val_accuracy: 0.8295\n",
            "Epoch 38/100\n",
            "198/198 [==============================] - ETA: 0s - loss: 0.1443 - accuracy: 0.9470\n",
            "Epoch 00038: val_accuracy did not improve from 0.84785\n",
            "198/198 [==============================] - 3s 17ms/step - loss: 0.1443 - accuracy: 0.9470 - val_loss: 1.5125 - val_accuracy: 0.8390\n",
            "Epoch 39/100\n",
            "195/198 [============================>.] - ETA: 0s - loss: 0.1669 - accuracy: 0.9393\n",
            "Epoch 00039: val_accuracy did not improve from 0.84785\n",
            "198/198 [==============================] - 3s 16ms/step - loss: 0.1663 - accuracy: 0.9392 - val_loss: 1.6745 - val_accuracy: 0.8308\n",
            "Epoch 40/100\n",
            "196/198 [============================>.] - ETA: 0s - loss: 0.1678 - accuracy: 0.9405\n",
            "Epoch 00040: val_accuracy did not improve from 0.84785\n",
            "198/198 [==============================] - 3s 16ms/step - loss: 0.1669 - accuracy: 0.9408 - val_loss: 1.2981 - val_accuracy: 0.8258\n",
            "Epoch 41/100\n",
            "195/198 [============================>.] - ETA: 0s - loss: 0.1690 - accuracy: 0.9383\n",
            "Epoch 00041: val_accuracy did not improve from 0.84785\n",
            "198/198 [==============================] - 3s 16ms/step - loss: 0.1697 - accuracy: 0.9380 - val_loss: 1.2297 - val_accuracy: 0.8352\n",
            "Epoch 42/100\n",
            "195/198 [============================>.] - ETA: 0s - loss: 0.1534 - accuracy: 0.9446\n",
            "Epoch 00042: val_accuracy did not improve from 0.84785\n",
            "198/198 [==============================] - 3s 16ms/step - loss: 0.1538 - accuracy: 0.9443 - val_loss: 1.1139 - val_accuracy: 0.8321\n",
            "Epoch 43/100\n",
            "196/198 [============================>.] - ETA: 0s - loss: 0.1411 - accuracy: 0.9474\n",
            "Epoch 00043: val_accuracy did not improve from 0.84785\n",
            "198/198 [==============================] - 3s 17ms/step - loss: 0.1411 - accuracy: 0.9473 - val_loss: 1.2139 - val_accuracy: 0.8333\n",
            "Epoch 44/100\n",
            "196/198 [============================>.] - ETA: 0s - loss: 0.1387 - accuracy: 0.9491\n",
            "Epoch 00044: val_accuracy did not improve from 0.84785\n",
            "198/198 [==============================] - 3s 16ms/step - loss: 0.1381 - accuracy: 0.9493 - val_loss: 1.3724 - val_accuracy: 0.8346\n",
            "Epoch 45/100\n",
            "198/198 [==============================] - ETA: 0s - loss: 0.1376 - accuracy: 0.9482\n",
            "Epoch 00045: val_accuracy did not improve from 0.84785\n",
            "198/198 [==============================] - 3s 17ms/step - loss: 0.1376 - accuracy: 0.9482 - val_loss: 1.3016 - val_accuracy: 0.8308\n",
            "Epoch 46/100\n",
            "196/198 [============================>.] - ETA: 0s - loss: 0.1374 - accuracy: 0.9501\n",
            "Epoch 00046: val_accuracy did not improve from 0.84785\n",
            "198/198 [==============================] - 3s 17ms/step - loss: 0.1378 - accuracy: 0.9498 - val_loss: 1.3719 - val_accuracy: 0.8321\n",
            "Epoch 47/100\n",
            "197/198 [============================>.] - ETA: 0s - loss: 0.1386 - accuracy: 0.9473\n",
            "Epoch 00047: val_accuracy did not improve from 0.84785\n",
            "198/198 [==============================] - 3s 17ms/step - loss: 0.1382 - accuracy: 0.9474 - val_loss: 1.2735 - val_accuracy: 0.8346\n",
            "Epoch 48/100\n",
            "196/198 [============================>.] - ETA: 0s - loss: 0.1398 - accuracy: 0.9487\n",
            "Epoch 00048: val_accuracy did not improve from 0.84785\n",
            "198/198 [==============================] - 3s 16ms/step - loss: 0.1394 - accuracy: 0.9489 - val_loss: 1.5267 - val_accuracy: 0.8352\n",
            "Epoch 49/100\n",
            "195/198 [============================>.] - ETA: 0s - loss: 0.1370 - accuracy: 0.9481\n",
            "Epoch 00049: val_accuracy did not improve from 0.84785\n",
            "198/198 [==============================] - 3s 16ms/step - loss: 0.1380 - accuracy: 0.9479 - val_loss: 1.5163 - val_accuracy: 0.8365\n",
            "Epoch 50/100\n",
            "197/198 [============================>.] - ETA: 0s - loss: 0.1370 - accuracy: 0.9486\n",
            "Epoch 00050: val_accuracy did not improve from 0.84785\n",
            "198/198 [==============================] - 3s 17ms/step - loss: 0.1369 - accuracy: 0.9487 - val_loss: 1.3983 - val_accuracy: 0.8314\n",
            "Epoch 51/100\n",
            "197/198 [============================>.] - ETA: 0s - loss: 0.1373 - accuracy: 0.9483\n",
            "Epoch 00051: val_accuracy did not improve from 0.84785\n",
            "198/198 [==============================] - 3s 17ms/step - loss: 0.1370 - accuracy: 0.9484 - val_loss: 1.4738 - val_accuracy: 0.8346\n",
            "Epoch 52/100\n",
            "195/198 [============================>.] - ETA: 0s - loss: 0.1382 - accuracy: 0.9474\n",
            "Epoch 00052: val_accuracy did not improve from 0.84785\n",
            "198/198 [==============================] - 3s 17ms/step - loss: 0.1377 - accuracy: 0.9478 - val_loss: 1.5623 - val_accuracy: 0.8308\n",
            "Epoch 53/100\n",
            "196/198 [============================>.] - ETA: 0s - loss: 0.1364 - accuracy: 0.9485\n",
            "Epoch 00053: val_accuracy did not improve from 0.84785\n",
            "198/198 [==============================] - 3s 16ms/step - loss: 0.1369 - accuracy: 0.9479 - val_loss: 1.5808 - val_accuracy: 0.8308\n",
            "Epoch 54/100\n",
            "196/198 [============================>.] - ETA: 0s - loss: 0.1355 - accuracy: 0.9482\n",
            "Epoch 00054: val_accuracy did not improve from 0.84785\n",
            "198/198 [==============================] - 3s 16ms/step - loss: 0.1363 - accuracy: 0.9476 - val_loss: 1.5748 - val_accuracy: 0.8327\n",
            "Epoch 55/100\n",
            "196/198 [============================>.] - ETA: 0s - loss: 0.1359 - accuracy: 0.9483\n",
            "Epoch 00055: val_accuracy did not improve from 0.84785\n",
            "198/198 [==============================] - 3s 17ms/step - loss: 0.1359 - accuracy: 0.9482 - val_loss: 1.7010 - val_accuracy: 0.8333\n",
            "Epoch 56/100\n",
            "196/198 [============================>.] - ETA: 0s - loss: 0.1374 - accuracy: 0.9490\n",
            "Epoch 00056: val_accuracy did not improve from 0.84785\n",
            "198/198 [==============================] - 3s 17ms/step - loss: 0.1381 - accuracy: 0.9485 - val_loss: 1.8784 - val_accuracy: 0.8258\n",
            "Epoch 57/100\n",
            "196/198 [============================>.] - ETA: 0s - loss: 0.1611 - accuracy: 0.9415\n",
            "Epoch 00057: val_accuracy did not improve from 0.84785\n",
            "198/198 [==============================] - 3s 16ms/step - loss: 0.1605 - accuracy: 0.9416 - val_loss: 1.2405 - val_accuracy: 0.8201\n",
            "Epoch 58/100\n",
            "197/198 [============================>.] - ETA: 0s - loss: 0.1616 - accuracy: 0.9421\n",
            "Epoch 00058: val_accuracy did not improve from 0.84785\n",
            "198/198 [==============================] - 3s 16ms/step - loss: 0.1612 - accuracy: 0.9422 - val_loss: 1.4560 - val_accuracy: 0.8314\n",
            "Epoch 59/100\n",
            "198/198 [==============================] - ETA: 0s - loss: 0.1413 - accuracy: 0.9474\n",
            "Epoch 00059: val_accuracy did not improve from 0.84785\n",
            "198/198 [==============================] - 3s 17ms/step - loss: 0.1413 - accuracy: 0.9474 - val_loss: 1.4904 - val_accuracy: 0.8327\n",
            "Epoch 60/100\n",
            "197/198 [============================>.] - ETA: 0s - loss: 0.1378 - accuracy: 0.9497\n",
            "Epoch 00060: val_accuracy did not improve from 0.84785\n",
            "198/198 [==============================] - 3s 17ms/step - loss: 0.1373 - accuracy: 0.9500 - val_loss: 1.4571 - val_accuracy: 0.8340\n",
            "Epoch 61/100\n",
            "196/198 [============================>.] - ETA: 0s - loss: 0.1355 - accuracy: 0.9490\n",
            "Epoch 00061: val_accuracy did not improve from 0.84785\n",
            "198/198 [==============================] - 3s 16ms/step - loss: 0.1354 - accuracy: 0.9492 - val_loss: 1.6629 - val_accuracy: 0.8390\n",
            "Epoch 62/100\n",
            "197/198 [============================>.] - ETA: 0s - loss: 0.1349 - accuracy: 0.9488\n",
            "Epoch 00062: val_accuracy did not improve from 0.84785\n",
            "198/198 [==============================] - 3s 17ms/step - loss: 0.1351 - accuracy: 0.9484 - val_loss: 1.6078 - val_accuracy: 0.8359\n",
            "Epoch 63/100\n",
            "198/198 [==============================] - ETA: 0s - loss: 0.1347 - accuracy: 0.9481\n",
            "Epoch 00063: val_accuracy did not improve from 0.84785\n",
            "198/198 [==============================] - 3s 17ms/step - loss: 0.1347 - accuracy: 0.9481 - val_loss: 1.4368 - val_accuracy: 0.8283\n",
            "Epoch 64/100\n",
            "196/198 [============================>.] - ETA: 0s - loss: 0.1371 - accuracy: 0.9482\n",
            "Epoch 00064: val_accuracy did not improve from 0.84785\n",
            "198/198 [==============================] - 3s 16ms/step - loss: 0.1369 - accuracy: 0.9482 - val_loss: 1.6172 - val_accuracy: 0.8346\n",
            "Epoch 65/100\n",
            "197/198 [============================>.] - ETA: 0s - loss: 0.1349 - accuracy: 0.9494\n",
            "Epoch 00065: val_accuracy did not improve from 0.84785\n",
            "198/198 [==============================] - 3s 17ms/step - loss: 0.1349 - accuracy: 0.9495 - val_loss: 1.9353 - val_accuracy: 0.8384\n",
            "Epoch 00065: early stopping\n"
          ],
          "name": "stdout"
        }
      ]
    },
    {
      "cell_type": "code",
      "metadata": {
        "id": "DeVYlu9pzEFC",
        "colab_type": "code",
        "colab": {}
      },
      "source": [
        "dataset_test=pd.read_csv('/content/drive/My Drive/Analytics Vindhya/test.csv')"
      ],
      "execution_count": 104,
      "outputs": []
    },
    {
      "cell_type": "code",
      "metadata": {
        "id": "l7BYDercm85c",
        "colab_type": "code",
        "colab": {
          "base_uri": "https://localhost:8080/",
          "height": 419
        },
        "outputId": "1b1c7051-4b26-49ad-bd65-9420ff3e68d0"
      },
      "source": [
        "dataset_test"
      ],
      "execution_count": 105,
      "outputs": [
        {
          "output_type": "execute_result",
          "data": {
            "text/html": [
              "<div>\n",
              "<style scoped>\n",
              "    .dataframe tbody tr th:only-of-type {\n",
              "        vertical-align: middle;\n",
              "    }\n",
              "\n",
              "    .dataframe tbody tr th {\n",
              "        vertical-align: top;\n",
              "    }\n",
              "\n",
              "    .dataframe thead th {\n",
              "        text-align: right;\n",
              "    }\n",
              "</style>\n",
              "<table border=\"1\" class=\"dataframe\">\n",
              "  <thead>\n",
              "    <tr style=\"text-align: right;\">\n",
              "      <th></th>\n",
              "      <th>id</th>\n",
              "      <th>tweet</th>\n",
              "    </tr>\n",
              "  </thead>\n",
              "  <tbody>\n",
              "    <tr>\n",
              "      <th>0</th>\n",
              "      <td>7921</td>\n",
              "      <td>I hate the new #iphone upgrade. Won't let me d...</td>\n",
              "    </tr>\n",
              "    <tr>\n",
              "      <th>1</th>\n",
              "      <td>7922</td>\n",
              "      <td>currently shitting my fucking pants. #apple #i...</td>\n",
              "    </tr>\n",
              "    <tr>\n",
              "      <th>2</th>\n",
              "      <td>7923</td>\n",
              "      <td>I'd like to puts some CD-ROMS on my iPad, is t...</td>\n",
              "    </tr>\n",
              "    <tr>\n",
              "      <th>3</th>\n",
              "      <td>7924</td>\n",
              "      <td>My ipod is officially dead. I lost all my pict...</td>\n",
              "    </tr>\n",
              "    <tr>\n",
              "      <th>4</th>\n",
              "      <td>7925</td>\n",
              "      <td>Been fighting iTunes all night! I only want th...</td>\n",
              "    </tr>\n",
              "    <tr>\n",
              "      <th>...</th>\n",
              "      <td>...</td>\n",
              "      <td>...</td>\n",
              "    </tr>\n",
              "    <tr>\n",
              "      <th>1948</th>\n",
              "      <td>9869</td>\n",
              "      <td>#SamsungGalaxyNote7 Explodes, Burns 6-Year-Old...</td>\n",
              "    </tr>\n",
              "    <tr>\n",
              "      <th>1949</th>\n",
              "      <td>9870</td>\n",
              "      <td>Now Available - Hoodie. Check it out here - ht...</td>\n",
              "    </tr>\n",
              "    <tr>\n",
              "      <th>1950</th>\n",
              "      <td>9871</td>\n",
              "      <td>There goes a crack right across the screen. If...</td>\n",
              "    </tr>\n",
              "    <tr>\n",
              "      <th>1951</th>\n",
              "      <td>9872</td>\n",
              "      <td>@codeofinterest as i said #Adobe big time we m...</td>\n",
              "    </tr>\n",
              "    <tr>\n",
              "      <th>1952</th>\n",
              "      <td>9873</td>\n",
              "      <td>Finally I got it .. thanx my father .. #Samsun...</td>\n",
              "    </tr>\n",
              "  </tbody>\n",
              "</table>\n",
              "<p>1953 rows × 2 columns</p>\n",
              "</div>"
            ],
            "text/plain": [
              "        id                                              tweet\n",
              "0     7921  I hate the new #iphone upgrade. Won't let me d...\n",
              "1     7922  currently shitting my fucking pants. #apple #i...\n",
              "2     7923  I'd like to puts some CD-ROMS on my iPad, is t...\n",
              "3     7924  My ipod is officially dead. I lost all my pict...\n",
              "4     7925  Been fighting iTunes all night! I only want th...\n",
              "...    ...                                                ...\n",
              "1948  9869  #SamsungGalaxyNote7 Explodes, Burns 6-Year-Old...\n",
              "1949  9870  Now Available - Hoodie. Check it out here - ht...\n",
              "1950  9871  There goes a crack right across the screen. If...\n",
              "1951  9872  @codeofinterest as i said #Adobe big time we m...\n",
              "1952  9873  Finally I got it .. thanx my father .. #Samsun...\n",
              "\n",
              "[1953 rows x 2 columns]"
            ]
          },
          "metadata": {
            "tags": []
          },
          "execution_count": 105
        }
      ]
    },
    {
      "cell_type": "code",
      "metadata": {
        "id": "bcIj9BjpnBze",
        "colab_type": "code",
        "colab": {}
      },
      "source": [
        "dataset_test['preprocessed_tweet']=dataset_test['tweet'].apply(lambda x:' '.join([word for word in x.split() if word not in (stop)]))\n",
        "dataset_test['preprocessed_tweet']=dataset_test['preprocessed_tweet'].apply(lambda x:' '.join([ps.stem(word) for word in x.split()]))\n",
        "dataset_test['preprocessed_tweet']=dataset_test['preprocessed_tweet'].apply(lambda x:' '.join([lm.lemmatize(word) for word in x.split()]))\n",
        "dataset_test['preprocessed_tweet']=dataset_test['preprocessed_tweet'].apply(remove_links)\n",
        "dataset_test['preprocessed_tweet']=dataset_test['preprocessed_tweet'].apply(remove_punctuation)\n",
        "dataset_test['preprocessed_tweet']=dataset_test['preprocessed_tweet'].apply(lambda x:x.lower())\n"
      ],
      "execution_count": 106,
      "outputs": []
    },
    {
      "cell_type": "code",
      "metadata": {
        "id": "yXPPKdeKn2zc",
        "colab_type": "code",
        "colab": {
          "base_uri": "https://localhost:8080/",
          "height": 419
        },
        "outputId": "c181ed9c-8592-4f1e-f78b-f2477e431411"
      },
      "source": [
        "dataset_test"
      ],
      "execution_count": 107,
      "outputs": [
        {
          "output_type": "execute_result",
          "data": {
            "text/html": [
              "<div>\n",
              "<style scoped>\n",
              "    .dataframe tbody tr th:only-of-type {\n",
              "        vertical-align: middle;\n",
              "    }\n",
              "\n",
              "    .dataframe tbody tr th {\n",
              "        vertical-align: top;\n",
              "    }\n",
              "\n",
              "    .dataframe thead th {\n",
              "        text-align: right;\n",
              "    }\n",
              "</style>\n",
              "<table border=\"1\" class=\"dataframe\">\n",
              "  <thead>\n",
              "    <tr style=\"text-align: right;\">\n",
              "      <th></th>\n",
              "      <th>id</th>\n",
              "      <th>tweet</th>\n",
              "      <th>preprocessed_tweet</th>\n",
              "    </tr>\n",
              "  </thead>\n",
              "  <tbody>\n",
              "    <tr>\n",
              "      <th>0</th>\n",
              "      <td>7921</td>\n",
              "      <td>I hate the new #iphone upgrade. Won't let me d...</td>\n",
              "      <td>i hate new iphon upgrade won't let download ap...</td>\n",
              "    </tr>\n",
              "    <tr>\n",
              "      <th>1</th>\n",
              "      <td>7922</td>\n",
              "      <td>currently shitting my fucking pants. #apple #i...</td>\n",
              "      <td>current shit fuck pants appl imac cashmoney ra...</td>\n",
              "    </tr>\n",
              "    <tr>\n",
              "      <th>2</th>\n",
              "      <td>7923</td>\n",
              "      <td>I'd like to puts some CD-ROMS on my iPad, is t...</td>\n",
              "      <td>i'd like put cdrom ipad possible' — yes block ...</td>\n",
              "    </tr>\n",
              "    <tr>\n",
              "      <th>3</th>\n",
              "      <td>7924</td>\n",
              "      <td>My ipod is officially dead. I lost all my pict...</td>\n",
              "      <td>my ipod offici dead i lost pictur video 1d 5so...</td>\n",
              "    </tr>\n",
              "    <tr>\n",
              "      <th>4</th>\n",
              "      <td>7925</td>\n",
              "      <td>Been fighting iTunes all night! I only want th...</td>\n",
              "      <td>been fight itun night i want music i  paid</td>\n",
              "    </tr>\n",
              "    <tr>\n",
              "      <th>...</th>\n",
              "      <td>...</td>\n",
              "      <td>...</td>\n",
              "      <td>...</td>\n",
              "    </tr>\n",
              "    <tr>\n",
              "      <th>1948</th>\n",
              "      <td>9869</td>\n",
              "      <td>#SamsungGalaxyNote7 Explodes, Burns 6-Year-Old...</td>\n",
              "      <td>samsunggalaxynote7 explodes burn 6yearold than...</td>\n",
              "    </tr>\n",
              "    <tr>\n",
              "      <th>1949</th>\n",
              "      <td>9870</td>\n",
              "      <td>Now Available - Hoodie. Check it out here - ht...</td>\n",
              "      <td>now avail  hoodie check  2utmcampaignsocialaut...</td>\n",
              "    </tr>\n",
              "    <tr>\n",
              "      <th>1950</th>\n",
              "      <td>9871</td>\n",
              "      <td>There goes a crack right across the screen. If...</td>\n",
              "      <td>there goe crack right across screen if could a...</td>\n",
              "    </tr>\n",
              "    <tr>\n",
              "      <th>1951</th>\n",
              "      <td>9872</td>\n",
              "      <td>@codeofinterest as i said #Adobe big time we m...</td>\n",
              "      <td>codeofinterest said adob big time may well inc...</td>\n",
              "    </tr>\n",
              "    <tr>\n",
              "      <th>1952</th>\n",
              "      <td>9873</td>\n",
              "      <td>Finally I got it .. thanx my father .. #Samsun...</td>\n",
              "      <td>final i got  thanx father  samsung galaxi s3 g...</td>\n",
              "    </tr>\n",
              "  </tbody>\n",
              "</table>\n",
              "<p>1953 rows × 3 columns</p>\n",
              "</div>"
            ],
            "text/plain": [
              "        id  ...                                 preprocessed_tweet\n",
              "0     7921  ...  i hate new iphon upgrade won't let download ap...\n",
              "1     7922  ...  current shit fuck pants appl imac cashmoney ra...\n",
              "2     7923  ...  i'd like put cdrom ipad possible' — yes block ...\n",
              "3     7924  ...  my ipod offici dead i lost pictur video 1d 5so...\n",
              "4     7925  ...         been fight itun night i want music i  paid\n",
              "...    ...  ...                                                ...\n",
              "1948  9869  ...  samsunggalaxynote7 explodes burn 6yearold than...\n",
              "1949  9870  ...  now avail  hoodie check  2utmcampaignsocialaut...\n",
              "1950  9871  ...  there goe crack right across screen if could a...\n",
              "1951  9872  ...  codeofinterest said adob big time may well inc...\n",
              "1952  9873  ...  final i got  thanx father  samsung galaxi s3 g...\n",
              "\n",
              "[1953 rows x 3 columns]"
            ]
          },
          "metadata": {
            "tags": []
          },
          "execution_count": 107
        }
      ]
    },
    {
      "cell_type": "code",
      "metadata": {
        "id": "xQrizW2VwnBr",
        "colab_type": "code",
        "colab": {}
      },
      "source": [
        "dataset_test['label']=dataset_test['preprocessed_tweet'].apply(get_tweet_sentiment)"
      ],
      "execution_count": 109,
      "outputs": []
    },
    {
      "cell_type": "code",
      "metadata": {
        "id": "wjfcj-qsxwsD",
        "colab_type": "code",
        "colab": {
          "base_uri": "https://localhost:8080/",
          "height": 419
        },
        "outputId": "a125efe8-d58e-433a-bebc-1e501ea8a5e1"
      },
      "source": [
        "dataset_test"
      ],
      "execution_count": 110,
      "outputs": [
        {
          "output_type": "execute_result",
          "data": {
            "text/html": [
              "<div>\n",
              "<style scoped>\n",
              "    .dataframe tbody tr th:only-of-type {\n",
              "        vertical-align: middle;\n",
              "    }\n",
              "\n",
              "    .dataframe tbody tr th {\n",
              "        vertical-align: top;\n",
              "    }\n",
              "\n",
              "    .dataframe thead th {\n",
              "        text-align: right;\n",
              "    }\n",
              "</style>\n",
              "<table border=\"1\" class=\"dataframe\">\n",
              "  <thead>\n",
              "    <tr style=\"text-align: right;\">\n",
              "      <th></th>\n",
              "      <th>id</th>\n",
              "      <th>tweet</th>\n",
              "      <th>preprocessed_tweet</th>\n",
              "      <th>label</th>\n",
              "    </tr>\n",
              "  </thead>\n",
              "  <tbody>\n",
              "    <tr>\n",
              "      <th>0</th>\n",
              "      <td>7921</td>\n",
              "      <td>I hate the new #iphone upgrade. Won't let me d...</td>\n",
              "      <td>i hate new iphon upgrade won't let download ap...</td>\n",
              "      <td>1</td>\n",
              "    </tr>\n",
              "    <tr>\n",
              "      <th>1</th>\n",
              "      <td>7922</td>\n",
              "      <td>currently shitting my fucking pants. #apple #i...</td>\n",
              "      <td>current shit fuck pants appl imac cashmoney ra...</td>\n",
              "      <td>1</td>\n",
              "    </tr>\n",
              "    <tr>\n",
              "      <th>2</th>\n",
              "      <td>7923</td>\n",
              "      <td>I'd like to puts some CD-ROMS on my iPad, is t...</td>\n",
              "      <td>i'd like put cdrom ipad possible' — yes block ...</td>\n",
              "      <td>0</td>\n",
              "    </tr>\n",
              "    <tr>\n",
              "      <th>3</th>\n",
              "      <td>7924</td>\n",
              "      <td>My ipod is officially dead. I lost all my pict...</td>\n",
              "      <td>my ipod offici dead i lost pictur video 1d 5so...</td>\n",
              "      <td>1</td>\n",
              "    </tr>\n",
              "    <tr>\n",
              "      <th>4</th>\n",
              "      <td>7925</td>\n",
              "      <td>Been fighting iTunes all night! I only want th...</td>\n",
              "      <td>been fight itun night i want music i  paid</td>\n",
              "      <td>0</td>\n",
              "    </tr>\n",
              "    <tr>\n",
              "      <th>...</th>\n",
              "      <td>...</td>\n",
              "      <td>...</td>\n",
              "      <td>...</td>\n",
              "      <td>...</td>\n",
              "    </tr>\n",
              "    <tr>\n",
              "      <th>1948</th>\n",
              "      <td>9869</td>\n",
              "      <td>#SamsungGalaxyNote7 Explodes, Burns 6-Year-Old...</td>\n",
              "      <td>samsunggalaxynote7 explodes burn 6yearold than...</td>\n",
              "      <td>0</td>\n",
              "    </tr>\n",
              "    <tr>\n",
              "      <th>1949</th>\n",
              "      <td>9870</td>\n",
              "      <td>Now Available - Hoodie. Check it out here - ht...</td>\n",
              "      <td>now avail  hoodie check  2utmcampaignsocialaut...</td>\n",
              "      <td>0</td>\n",
              "    </tr>\n",
              "    <tr>\n",
              "      <th>1950</th>\n",
              "      <td>9871</td>\n",
              "      <td>There goes a crack right across the screen. If...</td>\n",
              "      <td>there goe crack right across screen if could a...</td>\n",
              "      <td>0</td>\n",
              "    </tr>\n",
              "    <tr>\n",
              "      <th>1951</th>\n",
              "      <td>9872</td>\n",
              "      <td>@codeofinterest as i said #Adobe big time we m...</td>\n",
              "      <td>codeofinterest said adob big time may well inc...</td>\n",
              "      <td>0</td>\n",
              "    </tr>\n",
              "    <tr>\n",
              "      <th>1952</th>\n",
              "      <td>9873</td>\n",
              "      <td>Finally I got it .. thanx my father .. #Samsun...</td>\n",
              "      <td>final i got  thanx father  samsung galaxi s3 g...</td>\n",
              "      <td>0</td>\n",
              "    </tr>\n",
              "  </tbody>\n",
              "</table>\n",
              "<p>1953 rows × 4 columns</p>\n",
              "</div>"
            ],
            "text/plain": [
              "        id  ... label\n",
              "0     7921  ...     1\n",
              "1     7922  ...     1\n",
              "2     7923  ...     0\n",
              "3     7924  ...     1\n",
              "4     7925  ...     0\n",
              "...    ...  ...   ...\n",
              "1948  9869  ...     0\n",
              "1949  9870  ...     0\n",
              "1950  9871  ...     0\n",
              "1951  9872  ...     0\n",
              "1952  9873  ...     0\n",
              "\n",
              "[1953 rows x 4 columns]"
            ]
          },
          "metadata": {
            "tags": []
          },
          "execution_count": 110
        }
      ]
    },
    {
      "cell_type": "code",
      "metadata": {
        "id": "WRl8B2C7x5LL",
        "colab_type": "code",
        "colab": {}
      },
      "source": [
        "dataset_test[['id','label']].to_csv('textblob_classification.csv')"
      ],
      "execution_count": 113,
      "outputs": []
    },
    {
      "cell_type": "code",
      "metadata": {
        "id": "nt4DGd79n9sL",
        "colab_type": "code",
        "colab": {}
      },
      "source": [
        "X_test = cv.fit_transform(dataset_test['preprocessed_tweet']).toarray()"
      ],
      "execution_count": 62,
      "outputs": []
    },
    {
      "cell_type": "code",
      "metadata": {
        "id": "70b0o3M0oNmA",
        "colab_type": "code",
        "colab": {
          "base_uri": "https://localhost:8080/",
          "height": 136
        },
        "outputId": "0430ae68-a9b7-42be-897a-a4f03fdc4ef0"
      },
      "source": [
        "X_test"
      ],
      "execution_count": 63,
      "outputs": [
        {
          "output_type": "execute_result",
          "data": {
            "text/plain": [
              "array([[0, 0, 0, ..., 0, 0, 0],\n",
              "       [0, 0, 0, ..., 0, 0, 0],\n",
              "       [0, 0, 0, ..., 0, 0, 0],\n",
              "       ...,\n",
              "       [0, 0, 0, ..., 0, 1, 0],\n",
              "       [0, 0, 0, ..., 0, 0, 0],\n",
              "       [0, 0, 0, ..., 0, 0, 0]])"
            ]
          },
          "metadata": {
            "tags": []
          },
          "execution_count": 63
        }
      ]
    },
    {
      "cell_type": "code",
      "metadata": {
        "id": "Fo0sXJQaodeo",
        "colab_type": "code",
        "colab": {}
      },
      "source": [
        "dataset_test['label']=model.predict(X_test)"
      ],
      "execution_count": 64,
      "outputs": []
    },
    {
      "cell_type": "code",
      "metadata": {
        "id": "SVukwNmnrPh-",
        "colab_type": "code",
        "colab": {}
      },
      "source": [
        ""
      ],
      "execution_count": 64,
      "outputs": []
    },
    {
      "cell_type": "code",
      "metadata": {
        "id": "GjMjFuJHpUra",
        "colab_type": "code",
        "colab": {}
      },
      "source": [
        "def approximate(x):\n",
        "  if x>=0.5:\n",
        "    return 1\n",
        "  else:\n",
        "    return 0"
      ],
      "execution_count": 65,
      "outputs": []
    },
    {
      "cell_type": "code",
      "metadata": {
        "id": "CfTk_TdTozpY",
        "colab_type": "code",
        "colab": {}
      },
      "source": [
        "dataset_test['label']=dataset_test['label'].apply(approximate)"
      ],
      "execution_count": 66,
      "outputs": []
    },
    {
      "cell_type": "code",
      "metadata": {
        "id": "VUfHdXSMo1Mh",
        "colab_type": "code",
        "colab": {
          "base_uri": "https://localhost:8080/",
          "height": 419
        },
        "outputId": "e090fadb-369b-432d-b37b-0b59f259a641"
      },
      "source": [
        "dataset_test"
      ],
      "execution_count": 67,
      "outputs": [
        {
          "output_type": "execute_result",
          "data": {
            "text/html": [
              "<div>\n",
              "<style scoped>\n",
              "    .dataframe tbody tr th:only-of-type {\n",
              "        vertical-align: middle;\n",
              "    }\n",
              "\n",
              "    .dataframe tbody tr th {\n",
              "        vertical-align: top;\n",
              "    }\n",
              "\n",
              "    .dataframe thead th {\n",
              "        text-align: right;\n",
              "    }\n",
              "</style>\n",
              "<table border=\"1\" class=\"dataframe\">\n",
              "  <thead>\n",
              "    <tr style=\"text-align: right;\">\n",
              "      <th></th>\n",
              "      <th>id</th>\n",
              "      <th>tweet</th>\n",
              "      <th>preprocessed_tweet</th>\n",
              "      <th>label</th>\n",
              "    </tr>\n",
              "  </thead>\n",
              "  <tbody>\n",
              "    <tr>\n",
              "      <th>0</th>\n",
              "      <td>7921</td>\n",
              "      <td>I hate the new #iphone upgrade. Won't let me d...</td>\n",
              "      <td>i hate new iphon upgrade won't let download ap...</td>\n",
              "      <td>0</td>\n",
              "    </tr>\n",
              "    <tr>\n",
              "      <th>1</th>\n",
              "      <td>7922</td>\n",
              "      <td>currently shitting my fucking pants. #apple #i...</td>\n",
              "      <td>current shit fuck pants appl imac cashmoney ra...</td>\n",
              "      <td>0</td>\n",
              "    </tr>\n",
              "    <tr>\n",
              "      <th>2</th>\n",
              "      <td>7923</td>\n",
              "      <td>I'd like to puts some CD-ROMS on my iPad, is t...</td>\n",
              "      <td>i'd like put cdrom ipad possible' — yes block ...</td>\n",
              "      <td>0</td>\n",
              "    </tr>\n",
              "    <tr>\n",
              "      <th>3</th>\n",
              "      <td>7924</td>\n",
              "      <td>My ipod is officially dead. I lost all my pict...</td>\n",
              "      <td>my ipod offici dead i lost pictur video 1d 5so...</td>\n",
              "      <td>1</td>\n",
              "    </tr>\n",
              "    <tr>\n",
              "      <th>4</th>\n",
              "      <td>7925</td>\n",
              "      <td>Been fighting iTunes all night! I only want th...</td>\n",
              "      <td>been fight itun night i want music i  paid</td>\n",
              "      <td>0</td>\n",
              "    </tr>\n",
              "    <tr>\n",
              "      <th>...</th>\n",
              "      <td>...</td>\n",
              "      <td>...</td>\n",
              "      <td>...</td>\n",
              "      <td>...</td>\n",
              "    </tr>\n",
              "    <tr>\n",
              "      <th>1948</th>\n",
              "      <td>9869</td>\n",
              "      <td>#SamsungGalaxyNote7 Explodes, Burns 6-Year-Old...</td>\n",
              "      <td>samsunggalaxynote7 explodes burn 6yearold than...</td>\n",
              "      <td>0</td>\n",
              "    </tr>\n",
              "    <tr>\n",
              "      <th>1949</th>\n",
              "      <td>9870</td>\n",
              "      <td>Now Available - Hoodie. Check it out here - ht...</td>\n",
              "      <td>now avail  hoodie check  2utmcampaignsocialaut...</td>\n",
              "      <td>0</td>\n",
              "    </tr>\n",
              "    <tr>\n",
              "      <th>1950</th>\n",
              "      <td>9871</td>\n",
              "      <td>There goes a crack right across the screen. If...</td>\n",
              "      <td>there goe crack right across screen if could a...</td>\n",
              "      <td>1</td>\n",
              "    </tr>\n",
              "    <tr>\n",
              "      <th>1951</th>\n",
              "      <td>9872</td>\n",
              "      <td>@codeofinterest as i said #Adobe big time we m...</td>\n",
              "      <td>codeofinterest said adob big time may well inc...</td>\n",
              "      <td>1</td>\n",
              "    </tr>\n",
              "    <tr>\n",
              "      <th>1952</th>\n",
              "      <td>9873</td>\n",
              "      <td>Finally I got it .. thanx my father .. #Samsun...</td>\n",
              "      <td>final i got  thanx father  samsung galaxi s3 g...</td>\n",
              "      <td>0</td>\n",
              "    </tr>\n",
              "  </tbody>\n",
              "</table>\n",
              "<p>1953 rows × 4 columns</p>\n",
              "</div>"
            ],
            "text/plain": [
              "        id  ... label\n",
              "0     7921  ...     0\n",
              "1     7922  ...     0\n",
              "2     7923  ...     0\n",
              "3     7924  ...     1\n",
              "4     7925  ...     0\n",
              "...    ...  ...   ...\n",
              "1948  9869  ...     0\n",
              "1949  9870  ...     0\n",
              "1950  9871  ...     1\n",
              "1951  9872  ...     1\n",
              "1952  9873  ...     0\n",
              "\n",
              "[1953 rows x 4 columns]"
            ]
          },
          "metadata": {
            "tags": []
          },
          "execution_count": 67
        }
      ]
    },
    {
      "cell_type": "code",
      "metadata": {
        "id": "Uca-VmbYpef2",
        "colab_type": "code",
        "colab": {}
      },
      "source": [
        "final_dataset=dataset_test[['id','label']]"
      ],
      "execution_count": 68,
      "outputs": []
    },
    {
      "cell_type": "code",
      "metadata": {
        "id": "Qi8c3Kmbpomn",
        "colab_type": "code",
        "colab": {
          "base_uri": "https://localhost:8080/",
          "height": 419
        },
        "outputId": "4fb2125b-83bf-42fe-898b-86abfab620c4"
      },
      "source": [
        "final_dataset"
      ],
      "execution_count": 69,
      "outputs": [
        {
          "output_type": "execute_result",
          "data": {
            "text/html": [
              "<div>\n",
              "<style scoped>\n",
              "    .dataframe tbody tr th:only-of-type {\n",
              "        vertical-align: middle;\n",
              "    }\n",
              "\n",
              "    .dataframe tbody tr th {\n",
              "        vertical-align: top;\n",
              "    }\n",
              "\n",
              "    .dataframe thead th {\n",
              "        text-align: right;\n",
              "    }\n",
              "</style>\n",
              "<table border=\"1\" class=\"dataframe\">\n",
              "  <thead>\n",
              "    <tr style=\"text-align: right;\">\n",
              "      <th></th>\n",
              "      <th>id</th>\n",
              "      <th>label</th>\n",
              "    </tr>\n",
              "  </thead>\n",
              "  <tbody>\n",
              "    <tr>\n",
              "      <th>0</th>\n",
              "      <td>7921</td>\n",
              "      <td>0</td>\n",
              "    </tr>\n",
              "    <tr>\n",
              "      <th>1</th>\n",
              "      <td>7922</td>\n",
              "      <td>0</td>\n",
              "    </tr>\n",
              "    <tr>\n",
              "      <th>2</th>\n",
              "      <td>7923</td>\n",
              "      <td>0</td>\n",
              "    </tr>\n",
              "    <tr>\n",
              "      <th>3</th>\n",
              "      <td>7924</td>\n",
              "      <td>1</td>\n",
              "    </tr>\n",
              "    <tr>\n",
              "      <th>4</th>\n",
              "      <td>7925</td>\n",
              "      <td>0</td>\n",
              "    </tr>\n",
              "    <tr>\n",
              "      <th>...</th>\n",
              "      <td>...</td>\n",
              "      <td>...</td>\n",
              "    </tr>\n",
              "    <tr>\n",
              "      <th>1948</th>\n",
              "      <td>9869</td>\n",
              "      <td>0</td>\n",
              "    </tr>\n",
              "    <tr>\n",
              "      <th>1949</th>\n",
              "      <td>9870</td>\n",
              "      <td>0</td>\n",
              "    </tr>\n",
              "    <tr>\n",
              "      <th>1950</th>\n",
              "      <td>9871</td>\n",
              "      <td>1</td>\n",
              "    </tr>\n",
              "    <tr>\n",
              "      <th>1951</th>\n",
              "      <td>9872</td>\n",
              "      <td>1</td>\n",
              "    </tr>\n",
              "    <tr>\n",
              "      <th>1952</th>\n",
              "      <td>9873</td>\n",
              "      <td>0</td>\n",
              "    </tr>\n",
              "  </tbody>\n",
              "</table>\n",
              "<p>1953 rows × 2 columns</p>\n",
              "</div>"
            ],
            "text/plain": [
              "        id  label\n",
              "0     7921      0\n",
              "1     7922      0\n",
              "2     7923      0\n",
              "3     7924      1\n",
              "4     7925      0\n",
              "...    ...    ...\n",
              "1948  9869      0\n",
              "1949  9870      0\n",
              "1950  9871      1\n",
              "1951  9872      1\n",
              "1952  9873      0\n",
              "\n",
              "[1953 rows x 2 columns]"
            ]
          },
          "metadata": {
            "tags": []
          },
          "execution_count": 69
        }
      ]
    },
    {
      "cell_type": "code",
      "metadata": {
        "id": "U8aCiU5qpvKM",
        "colab_type": "code",
        "colab": {}
      },
      "source": [
        "final_dataset.to_csv('final_submission.csv')"
      ],
      "execution_count": 70,
      "outputs": []
    },
    {
      "cell_type": "code",
      "metadata": {
        "id": "xOYINeuBp8-s",
        "colab_type": "code",
        "colab": {}
      },
      "source": [
        ""
      ],
      "execution_count": null,
      "outputs": []
    }
  ]
}